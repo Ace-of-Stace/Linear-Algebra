{
 "cells": [
  {
   "cell_type": "markdown",
   "metadata": {},
   "source": [
    "# **Project 2**: _Cramer's Rule. How fast is it?_\n",
    "---"
   ]
  },
  {
   "cell_type": "markdown",
   "metadata": {},
   "source": [
    "### **The problem:**\n",
    "I am interested to see how fast Cramer's Rule is as the number of equations grows. For this project we need to write a piece of code that measures that amount of time it takes to solve a system of equations using Cramer's Rule for as many systems as possible (2 equations, 3 equations, 4 equations, 5 equations, ...) The class **must write one piece of code** as a collaborative. Each member of the team needs to indicate where they helped and what part of the code they worked on. \n",
    "\n",
    "### **The example:** \n",
    "Each team member needs to solve a system of two equations using Cramer's Rule and type up the method. (Feel free to use project 1 as a template). Include written information between the blocks of Tex to connect the concepts and ideas.\n",
    " \n",
    "### **The program:**  \n",
    "As stated above, the class must submit **one** working piece of code. The code must build random systems of equations, solve them using Cramer's Rule (_**The Cramer's Rule must be coded and not from another package**_) and the amount of time that it takes must be noted for each step. Finally, the program must output some graphical description of the increase in time in relation to the number of equations.  \n",
    "\n",
    "### **The Individual write-up:**\n",
    "Each team member must write up their own paper. It must include paragraph introduction, the example (see _\"The example\"_ above), a description of the findings, including the graphical output from the code and a conclusion that includes what was found and what the findings mean.\n",
    "\n",
    "The file **must be an .ipynb and can not be larger than 100kb**. You can only submit one file, so triple check that it is the one you want.\n",
    "\n",
    "### **The final draft: __(60 pt total)__** \n",
    "\n",
    "This final draft should include (but is not limited to):  \n",
    "- Written introduction to the problem and the results. __(10 pt)__\n",
    "- The example that you did, fully typed up with notes. __(20 pt)__\n",
    "- Any markdown/latex notes that might help with understanding. __(10 pt)__\n",
    "- A conclusion about the software and general notes to think on. __(10 pt)__\n",
    "- Professional final product. (Ask for clarification here, but the best way to know is to give the final product to a colleague and ask them if it looks professional)  __(10 pt)__\n",
    "\n",
    "### **The final code: __(20 pt)__** \n",
    "- The collaborative code that was written must be submitted to the group code drop on D2L.\n",
    "- You will be graded on how you contributed to the final code. This should be indicated in your paper as well as clear from your comments in the code.\n",
    "- If you were a bug finder, indicate that and express what bugs you found.\n",
    "- If you were a collaborator in the design phase, indicate that and talk about what you did.\n",
    "- I will also look at the message board for corroborating notes to what you indicate in the paper.\n"
   ]
  },
  {
   "cell_type": "code",
   "execution_count": null,
   "metadata": {},
   "outputs": [],
   "source": []
  }
 ],
 "metadata": {
  "kernelspec": {
   "display_name": "Python 3",
   "language": "python",
   "name": "python3"
  },
  "language_info": {
   "codemirror_mode": {
    "name": "ipython",
    "version": 3
   },
   "file_extension": ".py",
   "mimetype": "text/x-python",
   "name": "python",
   "nbconvert_exporter": "python",
   "pygments_lexer": "ipython3",
   "version": "3.6.8"
  }
 },
 "nbformat": 4,
 "nbformat_minor": 2
}
