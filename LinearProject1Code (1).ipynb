{
 "cells": [
  {
   "cell_type": "code",
   "execution_count": null,
   "metadata": {},
   "outputs": [],
   "source": [
    "# from sympy import *\n",
    "import numpy as np\n",
    "\n",
    "# Ask user for number of individual elements (number of rows)\n",
    "numElements = int(input(\"Please enter number of indivual elements in the unbalanced equation\\n\"\n",
    "                        \"(i.e. H2 + O2 = H2O has 2 elements, H and O): \"))\n",
    "# Ask user for number of reactants\n",
    "numReactants = int(input(\"Please input the number of reactants in the unbalanced equation: \"))\n",
    "# Ask user for number of products\n",
    "numProducts = int(input(\"Please input the number of products in the unbalanced equation: \"))\n",
    "# Calculate the total number of molecules in the equations\n",
    "numMolecules = numReactants + numProducts\n",
    "\n",
    "# Show an example of how to enter data to user\n",
    "print(\"\\nPlease enter the number of atoms of each molecule in each element\\n\"\n",
    "      \"i.e. H2 + O2 = H2O\\n\"\n",
    "      \"There are 2 H atoms in molecule 1, 0 H atoms in molecule 2, and 2 H atoms in molecule 3.\\n\"\n",
    "      \"There are 0 O atoms in molecule 1, 2 O atoms in molecule 2, and 1 O atom in moleule 3.\\n\")\n",
    "\n",
    "equation = [] # Creates empty list for the matrix to be built\n",
    "for i in range(numElements): # Creates a row for each element\n",
    "    elementRow = [] # Creates empty list for the row to be built for each atom\n",
    "    for j in range(numMolecules): # Creates a column for each molecule\n",
    "        # This print statement would not be accepted into the input function so it's printed separately\n",
    "        print(\"Please enter number of atoms of element\", i + 1, \"in molecule\", j + 1, \": \", end=\"\")\n",
    "        numAtoms = int(input())\n",
    "        if (j+1) <= numReactants:\n",
    "            elementRow.append(numAtoms) # When converting the equation to a matrix, the atoms of the reactants remain the same\n",
    "        else: \n",
    "            elementRow.append(-numAtoms) # When converting the equation to a matrix, the atoms of the proucts are negative\n",
    "    equation.append(elementRow) # Add the row to the list\n",
    "    \n",
    "equation = Matrix(equation) # Convert the list into a matrix\n",
    "balancedEquation = equation.rref() # Row reduce the matrix\n",
    "print(balancedEquation)"
   ]
  },
  {
   "cell_type": "code",
   "execution_count": null,
   "metadata": {},
   "outputs": [],
   "source": []
  }
 ],
 "metadata": {
  "kernelspec": {
   "display_name": "Python 3",
   "language": "python",
   "name": "python3"
  },
  "language_info": {
   "codemirror_mode": {
    "name": "ipython",
    "version": 3
   },
   "file_extension": ".py",
   "mimetype": "text/x-python",
   "name": "python",
   "nbconvert_exporter": "python",
   "pygments_lexer": "ipython3",
   "version": "3.6.8"
  }
 },
 "nbformat": 4,
 "nbformat_minor": 2
}
