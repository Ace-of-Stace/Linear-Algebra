{
 "cells": [
  {
   "cell_type": "markdown",
   "metadata": {},
   "source": [
    "##### Stacie Barbarick, Linear Algebra, Chapter 1.5 Problem 11"
   ]
  },
  {
   "cell_type": "markdown",
   "metadata": {},
   "source": [
    "###### Describe all solutions for the $Ax=0$ in parametric vector form."
   ]
  },
  {
   "cell_type": "code",
   "execution_count": 1,
   "metadata": {},
   "outputs": [],
   "source": [
    "from sympy import *"
   ]
  },
  {
   "cell_type": "markdown",
   "metadata": {},
   "source": [
    "##### Original Matrix:"
   ]
  },
  {
   "cell_type": "code",
   "execution_count": 2,
   "metadata": {},
   "outputs": [],
   "source": [
    "M = Matrix([[1, -4, -2, 0, 3, -5], [0, 0, 1, 0, 0, -1], [0, 0, 0, 0, 1, -4], [0, 0, 0, 0, 0, 0]])"
   ]
  },
  {
   "cell_type": "code",
   "execution_count": 3,
   "metadata": {},
   "outputs": [
    {
     "data": {
      "text/latex": [
       "$\\displaystyle \\left[\\begin{matrix}1 & -4 & -2 & 0 & 3 & -5\\\\0 & 0 & 1 & 0 & 0 & -1\\\\0 & 0 & 0 & 0 & 1 & -4\\\\0 & 0 & 0 & 0 & 0 & 0\\end{matrix}\\right]$"
      ],
      "text/plain": [
       "Matrix([\n",
       "[1, -4, -2, 0, 3, -5],\n",
       "[0,  0,  1, 0, 0, -1],\n",
       "[0,  0,  0, 0, 1, -4],\n",
       "[0,  0,  0, 0, 0,  0]])"
      ]
     },
     "execution_count": 3,
     "metadata": {},
     "output_type": "execute_result"
    }
   ],
   "source": [
    "M"
   ]
  },
  {
   "cell_type": "markdown",
   "metadata": {},
   "source": [
    "##### Augmented Matrix of $Ax=0$"
   ]
  },
  {
   "cell_type": "code",
   "execution_count": 4,
   "metadata": {},
   "outputs": [],
   "source": [
    "M = Matrix([[1, -4, -2, 0, 3, -5, 0], [0, 0, 1, 0, 0, -1, 0], [0, 0, 0, 0, 1, -4, 0], [0, 0, 0, 0, 0, 0, 0]])"
   ]
  },
  {
   "cell_type": "code",
   "execution_count": 5,
   "metadata": {},
   "outputs": [
    {
     "data": {
      "text/latex": [
       "$\\displaystyle \\left[\\begin{matrix}1 & -4 & -2 & 0 & 3 & -5 & 0\\\\0 & 0 & 1 & 0 & 0 & -1 & 0\\\\0 & 0 & 0 & 0 & 1 & -4 & 0\\\\0 & 0 & 0 & 0 & 0 & 0 & 0\\end{matrix}\\right]$"
      ],
      "text/plain": [
       "Matrix([\n",
       "[1, -4, -2, 0, 3, -5, 0],\n",
       "[0,  0,  1, 0, 0, -1, 0],\n",
       "[0,  0,  0, 0, 1, -4, 0],\n",
       "[0,  0,  0, 0, 0,  0, 0]])"
      ]
     },
     "execution_count": 5,
     "metadata": {},
     "output_type": "execute_result"
    }
   ],
   "source": [
    "M"
   ]
  },
  {
   "cell_type": "code",
   "execution_count": 6,
   "metadata": {},
   "outputs": [
    {
     "data": {
      "text/plain": [
       "(Matrix([\n",
       " [1, -4, 0, 0, 0,  5, 0],\n",
       " [0,  0, 1, 0, 0, -1, 0],\n",
       " [0,  0, 0, 0, 1, -4, 0],\n",
       " [0,  0, 0, 0, 0,  0, 0]]), (0, 2, 4))"
      ]
     },
     "execution_count": 6,
     "metadata": {},
     "output_type": "execute_result"
    }
   ],
   "source": [
    "M.rref()"
   ]
  },
  {
   "cell_type": "markdown",
   "metadata": {},
   "source": [
    "#### System of Equations:\n",
    "$x_1-4x_2+5x_6 = 0 \\\\ x_3-x_6 = 0 \\\\ x_5-4x_6 = 0 \\\\ 0 = 0$\n",
    "#### Free Variables: $x_2$, $x_4$ and $x_6$\n"
   ]
  },
  {
   "cell_type": "markdown",
   "metadata": {},
   "source": [
    "#### Solving for the System in terms of free variables: \n",
    "##### Define $x_2 = u \\\\ x_4 = v \\\\ x_6 = w$\n",
    "##### Solved System: $x_3 = w \\\\ x_5 = 4w \\\\ x_1 = 4u - 5w$"
   ]
  },
  {
   "cell_type": "markdown",
   "metadata": {},
   "source": [
    "$$\n",
    "\\begin{equation}\n",
    "\\begin{bmatrix}\n",
    "x_1\\\\\n",
    "x_2\\\\ \n",
    "x_3\\\\ \n",
    "x_4\\\\\n",
    "x_5\\\\\n",
    "x_6 \\end{bmatrix} =  \\begin{cases} \\begin{bmatrix}\n",
    "4u - 5w \\\\ \n",
    "u \\\\ \n",
    "w \\\\ \n",
    "v \\\\ \n",
    "4w \\\\\n",
    "w\n",
    "\\end{bmatrix}\n",
    " u, v, w   \\epsilon   \\mathbb{R} \n",
    "\\end{cases}\n",
    "\\end{equation}\n",
    "$$"
   ]
  },
  {
   "cell_type": "markdown",
   "metadata": {},
   "source": [
    "$$\n",
    "\\begin{equation}\n",
    "\\begin{cases} \n",
    "u\n",
    "\\begin{bmatrix}\n",
    "4\\\\\n",
    "1\\\\ \n",
    "0\\\\ \n",
    "0\\\\\n",
    "0\\\\\n",
    "0 \\end{bmatrix}\n",
    "+ v\n",
    "\\begin{bmatrix}\n",
    "0\\\\\n",
    "0\\\\ \n",
    "0\\\\ \n",
    "1\\\\\n",
    "0\\\\\n",
    "0 \\end{bmatrix}\n",
    "+ w\n",
    "\\begin{bmatrix}\n",
    "-5\\\\\n",
    "0\\\\ \n",
    "1\\\\ \n",
    "0\\\\\n",
    "4\\\\\n",
    "1 \\end{bmatrix}\n",
    "u, v, w   \\epsilon   \\mathbb{R} \n",
    "\\end{cases}\n",
    "\\end{equation}\n",
    "$$"
   ]
  },
  {
   "cell_type": "markdown",
   "metadata": {},
   "source": [
    "Note to self: To use square matrix brackets around matrices on the same line, use the \\begin{equation} and \\end{equation}\" notation surrounding entire expression. \n",
    "Don't forget to put double dollar signs around Latex expressions, or they won't format prperly in a Latex environment. \n",
    "To put a large fancy bracket around multiple lines of variables or expressions, use the following notation....$$ \\begin{cases} 3x + 5y + z \\\\ 7x – 2y + 4z \\\\ -6x + 3y + 2z \\end{cases} $$"
   ]
  },
  {
   "cell_type": "code",
   "execution_count": null,
   "metadata": {},
   "outputs": [],
   "source": []
  }
 ],
 "metadata": {
  "kernelspec": {
   "display_name": "Python 3",
   "language": "python",
   "name": "python3"
  },
  "language_info": {
   "codemirror_mode": {
    "name": "ipython",
    "version": 3
   },
   "file_extension": ".py",
   "mimetype": "text/x-python",
   "name": "python",
   "nbconvert_exporter": "python",
   "pygments_lexer": "ipython3",
   "version": "3.6.8"
  }
 },
 "nbformat": 4,
 "nbformat_minor": 2
}
