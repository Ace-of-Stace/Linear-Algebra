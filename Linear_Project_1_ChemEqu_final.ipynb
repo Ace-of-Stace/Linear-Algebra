{
 "cells": [
  {
   "cell_type": "markdown",
   "metadata": {},
   "source": [
    "# **Project 1**: _Chemical Equation Balancer_ \n",
    "---"
   ]
  },
  {
   "cell_type": "markdown",
   "metadata": {},
   "source": [
    "### **The problem:**\n",
    "Our software development team has been asked to write a piece of software for a local highschool chemistry class. The intention is to allow the students to enter in a chemical equation and the program will output the balanced equation (if possible). In addition, the software should include code comments to express how the code is working as well as markdown/latex comments to express how the math (and [chemistry](https://en.wikipedia.org/wiki/Chemical_equation)) is working.   \n",
    "\n",
    "### **The example:** \n",
    "_Each member of the team must find a __different__ chemical equation and use linear algebra to solve it._ (Hint: Check out section 1.6. Note, there are only 7 different ones in this section) This should be done by hand and then included in a Jupyter Notebook (.ipynb) typed in markdown/latex with all the steps outlined. Once this example is done and typed up in a notebook, the next step is to code the program. I have an outline below of what the code should do, but the overall piece of software is up to the team to complete.  \n",
    "\n",
    "### **The program:**  \n",
    "- Ask user for a chemical equation.\n",
    "- Use linear algebra to balance the equation or determine that it is not possible. \n",
    "- Output the findings.\n",
    "- Bonus points (up to 5pt) for graphics and visual additions.\n",
    "\n",
    "### **The final draft: __(90 pt total)__** \n",
    "\n",
    "The collaborative code and the example that you did should be brought together into one notebook (.ipynb) and submitted in D2L. This final draft should include (but is not limited to):  \n",
    "- Written introduction to the problem and the results. __(10 pt)__\n",
    "- The example that you did, fully typed up with notes. __(20 pt)__\n",
    "- The collaborative code that was written with your personal comments. __(30 pt (10 for the code & 20 for the comments))__\n",
    "- Any markdown/latex notes that might help with understanding. __(10 pt)__\n",
    "- A conclusion about the software and general notes to think on. __(10 pt)__\n",
    "- Professional final product. (Ask for clarification here, but the best way to know is to give the final product to a colleague and ask them if it looks professional)  __(10 pt)__\n",
    "\n",
    "### **The notes:** \n",
    "\n",
    "While the code can be collaborative, the comments (both in the code and the markdown/latex) must be your own work. I would advise starting the comments from scratch once the code has been written and is working. One of the keys to success here is to challenge yourself to puzzle through the code and add comments that reflect how you see the program working. Think of this projet as partially a team project and partially individual. We only need one piece of code, but everyone needs to know how it works both from the software side and from the math side.\n"
   ]
  },
  {
   "cell_type": "code",
   "execution_count": null,
   "metadata": {},
   "outputs": [],
   "source": []
  }
 ],
 "metadata": {
  "kernelspec": {
   "display_name": "Python 3",
   "language": "python",
   "name": "python3"
  },
  "language_info": {
   "codemirror_mode": {
    "name": "ipython",
    "version": 3
   },
   "file_extension": ".py",
   "mimetype": "text/x-python",
   "name": "python",
   "nbconvert_exporter": "python",
   "pygments_lexer": "ipython3",
   "version": "3.6.8"
  }
 },
 "nbformat": 4,
 "nbformat_minor": 2
}
