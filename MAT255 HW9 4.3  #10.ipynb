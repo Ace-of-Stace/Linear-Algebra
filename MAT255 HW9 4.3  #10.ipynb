{
 "cells": [
  {
   "cell_type": "code",
   "execution_count": 1,
   "metadata": {},
   "outputs": [
    {
     "name": "stdout",
     "output_type": "stream",
     "text": [
      "Stacie Barbarick\n",
      "Linear Algebra\n",
      "Chapter 4.3 Problem 10\n"
     ]
    }
   ],
   "source": [
    "print(\"Stacie Barbarick\\nLinear Algebra\\nChapter 4.3 Problem 10\")"
   ]
  },
  {
   "cell_type": "code",
   "execution_count": 5,
   "metadata": {},
   "outputs": [],
   "source": [
    "from sympy import *"
   ]
  },
  {
   "cell_type": "markdown",
   "metadata": {},
   "source": [
    "#### Find bases for the null space of the given matrix.\n"
   ]
  },
  {
   "cell_type": "markdown",
   "metadata": {},
   "source": [
    "$\n",
    "\\begin{equation} A =\n",
    "\\begin{bmatrix}\n",
    "1 & 1 & -2 & 1 & 5\\\\\n",
    "0 & 1 & 0 & -1 & -2\\\\\n",
    "0 & 0 & -8 & 0 & 16\\\\\n",
    "\\end{bmatrix}\n",
    "\\end{equation}\n",
    "$\n",
    "#### Here, A is a m x n, 3 x 5 matrix."
   ]
  },
  {
   "cell_type": "markdown",
   "metadata": {},
   "source": [
    "#### General Solution to $Ax = 0$ by row reducing the augmented matrix, $[A  0]$:\n"
   ]
  },
  {
   "cell_type": "markdown",
   "metadata": {},
   "source": [
    "$\n",
    "\\begin{equation} A =\n",
    "\\begin{bmatrix}\n",
    "1 & 1 & -2 & 1 & 5 & 0\\\\\n",
    "0 & 1 & 0 & -1 & -2 & 0\\\\\n",
    "0 & 0 & -8 & 0 & 16 & 0\\\\\n",
    "\\end{bmatrix}\n",
    "\\end{equation}\n",
    "$"
   ]
  },
  {
   "cell_type": "markdown",
   "metadata": {},
   "source": [
    "#### System of Equations:\n",
    "$x_1-2x_4+3x_5 = 0 \\\\ x_2 + x_4-2x_5 = 0 \\\\ x_3 - 2x_5=0$\n",
    "#### Solving the system, we get:\n",
    "$x_1 =-2x_4-3x_5$, $x_2=x_4+2x_5$, $x_3=2x_5$\n"
   ]
  },
  {
   "cell_type": "markdown",
   "metadata": {},
   "source": [
    "#### Thus:\n",
    "$\n",
    "\\begin{equation}\n",
    "\\begin{bmatrix}\n",
    "x_1\\\\\n",
    "x_2\\\\\n",
    "x_3\\\\\n",
    "x_4\\\\\n",
    "x_5\\\\\n",
    "\\end{bmatrix}  \n",
    "= \n",
    "\\begin{bmatrix}\n",
    "-2x_4-3x_5\\\\\n",
    "x_4+2x_5\\\\\n",
    "2x_5\\\\\n",
    "x_4\\\\\n",
    "x_5\\\\\n",
    "\\end{bmatrix}   =\n",
    "\\begin{bmatrix}\n",
    "2\\\\\n",
    "1\\\\\n",
    "0\\\\\n",
    "1\\\\\n",
    "0\\\\\n",
    "\\end{bmatrix}x_4 \n",
    "\\end{equation}\n",
    "$"
   ]
  },
  {
   "cell_type": "markdown",
   "metadata": {},
   "source": [
    "#### The system can be written as, $\n",
    "\\begin{equation}\n",
    "\\begin{bmatrix}\n",
    "x_1\\\\\n",
    "x_2\\\\\n",
    "x_3\\\\\n",
    "x_4\\\\\n",
    "x_5\\\\\n",
    "\\end{bmatrix} \n",
    "= ux_4 + vx_5\n",
    "\\end{equation}\n",
    "$\n",
    "#### So, every linear combination of u and v is an element of $Nul A$. \n",
    "#### Therefore, the basis for the $Nul A$ is $\n",
    "\\begin{equation}\n",
    "\\begin{bmatrix}\n",
    "2\\\\\n",
    "1\\\\\n",
    "0\\\\\n",
    "1\\\\\n",
    "0\\\\\n",
    "\\end{bmatrix}x_4 +\n",
    "\\begin{bmatrix}\n",
    "-3\\\\\n",
    "2\\\\\n",
    "2\\\\\n",
    "0\\\\\n",
    "1\\\\\n",
    "\\end{bmatrix}x_5\n",
    "\\end{equation}\n",
    "$\n"
   ]
  },
  {
   "cell_type": "code",
   "execution_count": null,
   "metadata": {},
   "outputs": [],
   "source": []
  }
 ],
 "metadata": {
  "kernelspec": {
   "display_name": "Python 3",
   "language": "python",
   "name": "python3"
  },
  "language_info": {
   "codemirror_mode": {
    "name": "ipython",
    "version": 3
   },
   "file_extension": ".py",
   "mimetype": "text/x-python",
   "name": "python",
   "nbconvert_exporter": "python",
   "pygments_lexer": "ipython3",
   "version": "3.6.8"
  }
 },
 "nbformat": 4,
 "nbformat_minor": 2
}
