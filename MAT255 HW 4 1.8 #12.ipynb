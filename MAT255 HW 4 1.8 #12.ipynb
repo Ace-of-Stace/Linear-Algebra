{
 "cells": [
  {
   "cell_type": "markdown",
   "metadata": {},
   "source": [
    "### Stacie Barbarick, Linear Algebra, Chapter 1.8 Problem 12"
   ]
  },
  {
   "cell_type": "markdown",
   "metadata": {},
   "source": [
    "#### Determine if  $b$ is a linear transformation of matrix $A$."
   ]
  },
  {
   "cell_type": "code",
   "execution_count": 8,
   "metadata": {},
   "outputs": [],
   "source": [
    "from sympy import *\n",
    "init_printing=True"
   ]
  },
  {
   "cell_type": "markdown",
   "metadata": {},
   "source": [
    "##### Matrix A:"
   ]
  },
  {
   "cell_type": "code",
   "execution_count": 2,
   "metadata": {},
   "outputs": [],
   "source": [
    "M = Matrix([[3, 2, 10, -6], [1, 0, 2, -4], [0, 1, 2, 3], [1, 4, 10, 8]])"
   ]
  },
  {
   "cell_type": "code",
   "execution_count": 3,
   "metadata": {},
   "outputs": [
    {
     "data": {
      "text/latex": [
       "$\\displaystyle \\left[\\begin{matrix}3 & 2 & 10 & -6\\\\1 & 0 & 2 & -4\\\\0 & 1 & 2 & 3\\\\1 & 4 & 10 & 8\\end{matrix}\\right]$"
      ],
      "text/plain": [
       "Matrix([\n",
       "[3, 2, 10, -6],\n",
       "[1, 0,  2, -4],\n",
       "[0, 1,  2,  3],\n",
       "[1, 4, 10,  8]])"
      ]
     },
     "execution_count": 3,
     "metadata": {},
     "output_type": "execute_result"
    }
   ],
   "source": [
    "M"
   ]
  },
  {
   "cell_type": "markdown",
   "metadata": {},
   "source": [
    "##### Matrix of $Ax=b$"
   ]
  },
  {
   "cell_type": "markdown",
   "metadata": {},
   "source": [
    "$$\n",
    "\\begin{equation}\n",
    "\\begin{bmatrix}\n",
    "3 & 2 & 10 & 6\\\\\n",
    "1 &0 & 2&  4\\\\ \n",
    "0& 1& 2& 3\\\\ \n",
    "1& 4& 10& 8\\end{bmatrix}  \\begin{bmatrix}\n",
    "x_1\\\\\n",
    "x_2\\\\ \n",
    "x_3\\\\ \n",
    "x_4\\\\\\end{bmatrix} = \\begin{bmatrix}\n",
    "-1\\\\ \n",
    "3\\\\ \n",
    "-1 \\\\\n",
    "4\\\\\n",
    "\\end{bmatrix}\n",
    "\\end{equation}\n",
    "$$"
   ]
  },
  {
   "cell_type": "code",
   "execution_count": 4,
   "metadata": {},
   "outputs": [],
   "source": [
    "M = Matrix([[3, 2, 10, -6, -1], [1, 0, 2, -4, 3], [0, 1, 2, 3, -1], [1, 4, 10, 8, 4]])"
   ]
  },
  {
   "cell_type": "code",
   "execution_count": 5,
   "metadata": {},
   "outputs": [
    {
     "data": {
      "text/latex": [
       "$\\displaystyle \\left[\\begin{matrix}3 & 2 & 10 & -6 & -1\\\\1 & 0 & 2 & -4 & 3\\\\0 & 1 & 2 & 3 & -1\\\\1 & 4 & 10 & 8 & 4\\end{matrix}\\right]$"
      ],
      "text/plain": [
       "Matrix([\n",
       "[3, 2, 10, -6, -1],\n",
       "[1, 0,  2, -4,  3],\n",
       "[0, 1,  2,  3, -1],\n",
       "[1, 4, 10,  8,  4]])"
      ]
     },
     "execution_count": 5,
     "metadata": {},
     "output_type": "execute_result"
    }
   ],
   "source": [
    "M"
   ]
  },
  {
   "cell_type": "code",
   "execution_count": 6,
   "metadata": {},
   "outputs": [
    {
     "data": {
      "text/plain": [
       "(Matrix([\n",
       " [1, 0, 2, -4, 0],\n",
       " [0, 1, 2,  3, 0],\n",
       " [0, 0, 0,  0, 1],\n",
       " [0, 0, 0,  0, 0]]), (0, 1, 4))"
      ]
     },
     "execution_count": 6,
     "metadata": {},
     "output_type": "execute_result"
    }
   ],
   "source": [
    "M.rref()"
   ]
  },
  {
   "cell_type": "markdown",
   "metadata": {},
   "source": [
    "##### The third equation $0 = 1$ is not possible, showing the system is inconsistent."
   ]
  },
  {
   "cell_type": "markdown",
   "metadata": {},
   "source": [
    "##### Note to self...put & in between number in a row in a matrix to space them nicely."
   ]
  },
  {
   "cell_type": "code",
   "execution_count": null,
   "metadata": {},
   "outputs": [],
   "source": []
  }
 ],
 "metadata": {
  "kernelspec": {
   "display_name": "Python 3",
   "language": "python",
   "name": "python3"
  },
  "language_info": {
   "codemirror_mode": {
    "name": "ipython",
    "version": 3
   },
   "file_extension": ".py",
   "mimetype": "text/x-python",
   "name": "python",
   "nbconvert_exporter": "python",
   "pygments_lexer": "ipython3",
   "version": "3.6.8"
  }
 },
 "nbformat": 4,
 "nbformat_minor": 2
}
