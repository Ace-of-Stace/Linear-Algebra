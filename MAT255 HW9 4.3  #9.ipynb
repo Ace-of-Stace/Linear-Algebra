{
 "cells": [
  {
   "cell_type": "code",
   "execution_count": 3,
   "metadata": {},
   "outputs": [
    {
     "name": "stdout",
     "output_type": "stream",
     "text": [
      "Stacie Barbarick\n",
      "Linear Algebra\n",
      "Chapter 4.3 Problem 9\n"
     ]
    }
   ],
   "source": [
    "print(\"Stacie Barbarick\\nLinear Algebra\\nChapter 4.3 Problem 9\")"
   ]
  },
  {
   "cell_type": "code",
   "execution_count": 5,
   "metadata": {},
   "outputs": [],
   "source": [
    "from sympy import *"
   ]
  },
  {
   "cell_type": "markdown",
   "metadata": {},
   "source": [
    "#### Find bases for null spaces of the given matrix.\n"
   ]
  },
  {
   "cell_type": "markdown",
   "metadata": {},
   "source": [
    "$\n",
    "\\begin{equation} A =\n",
    "\\begin{bmatrix}\n",
    "1 & 0 & -2 & -2\\\\\n",
    "-0 & 1 & 1 & 4\\\\\n",
    "3 & -1 & -7 & 3\\\\\n",
    "\\end{bmatrix}\n",
    "\\end{equation}\n",
    "$\n"
   ]
  },
  {
   "cell_type": "markdown",
   "metadata": {},
   "source": [
    "#### General Solution to $Ax = 0$ by row reducing the augmented matrix, $[A  0]$:\n"
   ]
  },
  {
   "cell_type": "markdown",
   "metadata": {},
   "source": [
    "$\n",
    "\\begin{equation} A =\n",
    "\\begin{bmatrix}\n",
    "1 & 0 & -2 & -2 & 0\\\\\n",
    "-0 & 1 & 1 & 4 & 0\\\\\n",
    "3 & -1 & -7 & 3 & 0\\\\\n",
    "\\end{bmatrix}\n",
    "\\end{equation}\n",
    "$"
   ]
  },
  {
   "cell_type": "markdown",
   "metadata": {},
   "source": [
    "#### System of Equations:\n",
    "$x_1-2x_3-2x_4 = 0 \\\\ x_2 + x_3+4x_4 = 0 \\\\ 3x_1 - x_3 + 7x_3+3x_4=0$\n",
    "#### Solving the system, we get:\n",
    "$x_1 =2x$, $x_2=-x_3$, $x_4=0$\n"
   ]
  },
  {
   "cell_type": "markdown",
   "metadata": {},
   "source": [
    "$\n",
    "\\begin{equation}\n",
    "\\begin{bmatrix}\n",
    "x_1\\\\\n",
    "x_2\\\\\n",
    "x_3\\\\\n",
    "x_4\n",
    "\\end{bmatrix}  \n",
    "= \n",
    "\\begin{bmatrix}\n",
    "2x_3\\\\\n",
    "-x_3\\\\\n",
    "x_3\\\\\n",
    "0\\\\\n",
    "\\end{bmatrix}   =\n",
    "\\begin{bmatrix}\n",
    "2\\\\\n",
    "-1\\\\\n",
    "1\\\\\n",
    "0\\\\\n",
    "\\end{bmatrix}x_3\n",
    "\\end{equation}\n",
    "$\n"
   ]
  },
  {
   "cell_type": "markdown",
   "metadata": {},
   "source": [
    "#### Each vector in $Nul A$ is spanned by the vector, $\\begin{bmatrix}\n",
    "2\\\\\n",
    "-1\\\\\n",
    "1\\\\\n",
    "0\\\\\n",
    "\\end{bmatrix}$\n",
    "#### Therefore, the basis for the $Nul A$ is $\\begin{bmatrix}\n",
    "2\\\\\n",
    "-1\\\\\n",
    "1\\\\\n",
    "0\\\\\n",
    "\\end{bmatrix}$"
   ]
  },
  {
   "cell_type": "code",
   "execution_count": null,
   "metadata": {},
   "outputs": [],
   "source": []
  }
 ],
 "metadata": {
  "kernelspec": {
   "display_name": "Python 3",
   "language": "python",
   "name": "python3"
  },
  "language_info": {
   "codemirror_mode": {
    "name": "ipython",
    "version": 3
   },
   "file_extension": ".py",
   "mimetype": "text/x-python",
   "name": "python",
   "nbconvert_exporter": "python",
   "pygments_lexer": "ipython3",
   "version": "3.6.8"
  }
 },
 "nbformat": 4,
 "nbformat_minor": 2
}
