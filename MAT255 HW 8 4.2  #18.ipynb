{
 "cells": [
  {
   "cell_type": "markdown",
   "metadata": {},
   "source": [
    "### Stacie Barbarick, Linear Algebra, Chapter 4.2 Problem 18"
   ]
  },
  {
   "cell_type": "markdown",
   "metadata": {},
   "source": [
    "#### For the Matrix A, find a) $k$ such that $NulA$ is a subspace of $\\mathbb{R}^k$ and b) $k$ such that $ColA$ is a subspace of $\\mathbb{R}^k$."
   ]
  },
  {
   "cell_type": "code",
   "execution_count": 6,
   "metadata": {},
   "outputs": [],
   "source": [
    "from sympy import *"
   ]
  },
  {
   "cell_type": "markdown",
   "metadata": {},
   "source": [
    "##### Matrix A:"
   ]
  },
  {
   "cell_type": "code",
   "execution_count": 8,
   "metadata": {},
   "outputs": [],
   "source": [
    "M = Matrix([[5, -2, 3], [-1, 0, -1], [0, -2, -2], [-5, 7, 2]])"
   ]
  },
  {
   "cell_type": "code",
   "execution_count": 9,
   "metadata": {},
   "outputs": [
    {
     "data": {
      "text/latex": [
       "$\\displaystyle \\left[\\begin{matrix}5 & -2 & 3\\\\-1 & 0 & -1\\\\0 & -2 & -2\\\\-5 & 7 & 2\\end{matrix}\\right]$"
      ],
      "text/plain": [
       "Matrix([\n",
       "[ 5, -2,  3],\n",
       "[-1,  0, -1],\n",
       "[ 0, -2, -2],\n",
       "[-5,  7,  2]])"
      ]
     },
     "execution_count": 9,
     "metadata": {},
     "output_type": "execute_result"
    }
   ],
   "source": [
    "M"
   ]
  },
  {
   "cell_type": "markdown",
   "metadata": {},
   "source": [
    "##### Remember, a matrix is in the form $mxn$ (m = # of rows x n = # of columns), and $NulA$ lives in the subspace of $\\mathbb{R}^n$ and $ColA$ lives in the subspace of $\\mathbb{R}^m$.\n"
   ]
  },
  {
   "cell_type": "markdown",
   "metadata": {},
   "source": [
    "##### Matrix A is a 4 x 3 matrix, so m = 4 and n = 3"
   ]
  },
  {
   "cell_type": "code",
   "execution_count": null,
   "metadata": {},
   "outputs": [],
   "source": []
  },
  {
   "cell_type": "markdown",
   "metadata": {},
   "source": [
    "#### a) So the $k$ such that $NulA$ is a subspace of $\\mathbb{R}^k$ is the n value. n = k = $\\boxed{3}$"
   ]
  },
  {
   "cell_type": "markdown",
   "metadata": {},
   "source": [
    "#### b) And, the $k$ such that $ColA$ is a subspace of $\\mathbb{R}^k$ is the m value. m = k = $\\boxed{4}$"
   ]
  },
  {
   "cell_type": "markdown",
   "metadata": {},
   "source": [
    "##### Note to Future Coding Stacie: Remember: to put a box around an answer or equation, the code is $\\boxed{answer}$"
   ]
  },
  {
   "cell_type": "code",
   "execution_count": null,
   "metadata": {},
   "outputs": [],
   "source": []
  }
 ],
 "metadata": {
  "kernelspec": {
   "display_name": "Python 3",
   "language": "python",
   "name": "python3"
  },
  "language_info": {
   "codemirror_mode": {
    "name": "ipython",
    "version": 3
   },
   "file_extension": ".py",
   "mimetype": "text/x-python",
   "name": "python",
   "nbconvert_exporter": "python",
   "pygments_lexer": "ipython3",
   "version": "3.6.8"
  }
 },
 "nbformat": 4,
 "nbformat_minor": 2
}
