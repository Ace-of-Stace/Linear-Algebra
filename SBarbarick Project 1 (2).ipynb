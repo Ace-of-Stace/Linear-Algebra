{
 "cells": [
  {
   "cell_type": "markdown",
   "metadata": {},
   "source": [
    "### Stacie Barbarick\n",
    "### Linear Algebra Project 1  \n",
    "#### Collaborated with Alex Langfeld\n",
    "\n"
   ]
  },
  {
   "cell_type": "markdown",
   "metadata": {},
   "source": [
    "### Section 1 : $\\textbf{Introduction}$"
   ]
  },
  {
   "cell_type": "markdown",
   "metadata": {},
   "source": [
    "#### A chemical equation is an expression that represents the reactants (substances that are altered) and the products (new substances that are created) of a chemical reaction. The Law of the Conservation of Mass dictates that mass of reactants and products must be equal and therefore the number of atoms per element remain constant from one side of the equation to the other. To obtain this balanced chemical equation, whole number integers are calculated and applied to products and reactants, so these atom ratios equalize. Balancing chemical equations is a fundamental skill in any chemical laboratory application since correct ratios of reagents are necessary to obtain desired products. \n",
    "#### Unfortunately, the traditional “guess and check” or algebra-based system that many chemists employ to balance such equations can become incredible difficult and time consuming as chemical equations become more complex. Until the early 1980s, many chemistry educators felt that it was impossible to balance the equations for some reactions by inspection or, possibly, or the arithmetic of the standard methods was “beyond the capabilities of most students”. [1]  A different methodology for balancing these complex equations was proposed in 1978 by E.V. Krishnamurthy which, “consists in solving exactly for the rational (non-trivial) solutions of a system of linear, homogeneous algebraic equations whose coefficient matrix (called the reaction matrix) is singular, by using the concept of the generalized inverse of a matrix.” [2]  In fact, this matrix-based approach, when applied correctly, is capable of balancing chemical equations faster, and with more parameters than traditional methods. [3] Once a general program for the linear algebra is coded, anyone can simple input the elements of the chemical equation and quickly solve for the balancing coefficients.\n"
   ]
  },
  {
   "cell_type": "markdown",
   "metadata": {},
   "source": [
    "### Section 2 : $\\textbf{An Example}$"
   ]
  },
  {
   "cell_type": "markdown",
   "metadata": {},
   "source": [
    "#### A simple example of balancing a chemical equation using linear algebra is as follows. Take the thermal decomposition of potassium chlorate to produce potassium chloride and potassium perchlorate\n",
    "Source: https://chemiday.com/en/reaction/3-1-0-1127equation:"
   ]
  },
  {
   "cell_type": "markdown",
   "metadata": {},
   "source": [
    "$$\n",
    "\\begin{equation}\n",
    "(x_1)KClO_3 \\longrightarrow (x_2)KClO_4 + (x_3)KCl\n",
    "\\end{equation}\n",
    "$$"
   ]
  },
  {
   "cell_type": "markdown",
   "metadata": {},
   "source": [
    "#### We can assign each element to a row and each compound in the equation has an associated vector, denoting the weights of each element within that compound.  Like this: "
   ]
  },
  {
   "cell_type": "markdown",
   "metadata": {},
   "source": [
    "$$\n",
    "\\begin{equation}\n",
    "KClO_3  \n",
    "\\begin{bmatrix}\n",
    "1\\\\\n",
    "1\\\\ \n",
    "3\\\\ \n",
    "\\end{bmatrix}\n",
    "\\longrightarrow\n",
    "KClO_4\n",
    "\\begin{bmatrix}\n",
    "1\\\\\n",
    "1\\\\ \n",
    "4\\\\ \n",
    "\\end{bmatrix}\n",
    "+ KCl\n",
    "\\begin{bmatrix}\n",
    "1\\\\\n",
    "1\\\\ \n",
    "0\\\\\n",
    "\\end{bmatrix}\n",
    "\\end{equation}\n",
    "$$"
   ]
  },
  {
   "cell_type": "markdown",
   "metadata": {},
   "source": [
    "$$\n",
    "\\begin{equation}\n",
    "x_1\n",
    "\\begin{bmatrix}\n",
    "1\\\\\n",
    "1\\\\ \n",
    "3\\\\ \n",
    "\\end{bmatrix}\n",
    "\\longrightarrow\n",
    "x_2\n",
    "\\begin{bmatrix}\n",
    "1\\\\\n",
    "1\\\\ \n",
    "4\\\\ \n",
    "\\end{bmatrix}\n",
    "+ x_3\n",
    "\\begin{bmatrix}\n",
    "1\\\\\n",
    "1\\\\ \n",
    "0\\\\\n",
    "\\end{bmatrix}\n",
    "\\end{equation}\n",
    "$$"
   ]
  },
  {
   "cell_type": "markdown",
   "metadata": {},
   "source": [
    "#### Now in linear combination form, all the terms can be moved to the left and set equal to zero:"
   ]
  },
  {
   "cell_type": "markdown",
   "metadata": {},
   "source": [
    "$$\n",
    "\\begin{equation}\n",
    "x_1\n",
    "\\begin{bmatrix}\n",
    "1\\\\\n",
    "1\\\\ \n",
    "3\\\\ \n",
    "\\end{bmatrix}\n",
    "-\n",
    "x_2\n",
    "\\begin{bmatrix}\n",
    "1\\\\\n",
    "1\\\\ \n",
    "4\\\\ \n",
    "\\end{bmatrix}\n",
    "- x_3\n",
    "\\begin{bmatrix}\n",
    "1\\\\\n",
    "1\\\\ \n",
    "0\\\\\n",
    "\\end{bmatrix} = 0\n",
    "\\end{equation}\n",
    "$$"
   ]
  },
  {
   "cell_type": "markdown",
   "metadata": {},
   "source": [
    "#### Which can be written as augmented matrix and row reduced. This will give us the balancing coefficients for the chemical equation."
   ]
  },
  {
   "cell_type": "markdown",
   "metadata": {},
   "source": [
    "$$\n",
    "\\begin{equation}\n",
    "\\begin{bmatrix}\n",
    "1 & -1 & -1\\\\\n",
    "1 & -1 & -1\\\\ \n",
    "3 & -4 & 0\\\\ \n",
    "\\end{bmatrix} \n",
    "\\overrightarrow{-R_2 + R_1}\n",
    "\\begin{bmatrix}\n",
    "1 & -1 & -1\\\\\n",
    "0 & 0 & 0\\\\ \n",
    "3 & 4 & 0\\\\ \n",
    "\\end{bmatrix}\n",
    "\\overrightarrow{R_3 \\Leftrightarrow R_2}\n",
    "\\begin{bmatrix}\n",
    "1 & -1 & -1\\\\\n",
    "3 & 4 & 0\\\\ \n",
    "0 & 0 & 0\\\\ \n",
    "\\end{bmatrix}\n",
    "\\overrightarrow{-3R_1 + R_2}\n",
    "\\begin{bmatrix}\n",
    "1 & -1 & -1\\\\\n",
    "0 & -1 & 3\\\\ \n",
    "0 & 0 & 0\\\\ \n",
    "\\end{bmatrix}\n",
    "\\end{equation}\n",
    "$$"
   ]
  },
  {
   "cell_type": "markdown",
   "metadata": {},
   "source": [
    "$$\n",
    "\\begin{equation}\n",
    "\\overrightarrow{R_1 + R_2}\n",
    "\\begin{bmatrix}\n",
    "1 & 0 & -4\\\\\n",
    "0 & 1 & -3\\\\ \n",
    "0 & 0 & 0\\\\ \n",
    "\\end{bmatrix}\n",
    "\\begin{cases}\n",
    "x_1 = -4\\\\\n",
    "x_2 = -3\\\\\n",
    "x_3 = free & variable\n",
    "\\end{cases}\n",
    "\\end{equation}\n",
    "$$"
   ]
  },
  {
   "cell_type": "markdown",
   "metadata": {},
   "source": [
    "#### Therefore, the balanced chemical equation is:"
   ]
  },
  {
   "cell_type": "markdown",
   "metadata": {},
   "source": [
    "$$\n",
    "\\begin{equation}\n",
    "4KClO_3 \\longrightarrow 3KClO_4 + KCl\n",
    "\\end{equation}\n",
    "$$"
   ]
  },
  {
   "cell_type": "markdown",
   "metadata": {},
   "source": [
    "### Section 3 : $\\textbf{Collaborative Code}$"
   ]
  },
  {
   "cell_type": "code",
   "execution_count": 2,
   "metadata": {},
   "outputs": [
    {
     "name": "stdin",
     "output_type": "stream",
     "text": [
      "Please enter number of indivual elements in the unbalanced equation\n",
      "(i.e. H2 + O2 = H2O has 2 elements, H and O):  3\n",
      "Please input the number of reactants in the unbalanced equation:  1\n",
      "Please input the number of products in the unbalanced equation:  2\n"
     ]
    },
    {
     "name": "stdout",
     "output_type": "stream",
     "text": [
      "\n",
      "Please enter the number of atoms of each molecule in each element\n",
      "i.e. H2 + O2 = H2O\n",
      "There are 2 H atoms in molecule 1, 0 H atoms in molecule 2, and 2 H atoms in molecule 3.\n",
      "There are 0 O atoms in molecule 1, 2 O atoms in molecule 2, and 1 O atom in moleule 3.\n",
      "\n",
      "Please enter number of atoms of element 1 in molecule 1 : "
     ]
    },
    {
     "name": "stdin",
     "output_type": "stream",
     "text": [
      " 1\n"
     ]
    },
    {
     "name": "stdout",
     "output_type": "stream",
     "text": [
      "Please enter number of atoms of element 1 in molecule 2 : "
     ]
    },
    {
     "name": "stdin",
     "output_type": "stream",
     "text": [
      " 1\n"
     ]
    },
    {
     "name": "stdout",
     "output_type": "stream",
     "text": [
      "Please enter number of atoms of element 1 in molecule 3 : "
     ]
    },
    {
     "name": "stdin",
     "output_type": "stream",
     "text": [
      " 1\n"
     ]
    },
    {
     "name": "stdout",
     "output_type": "stream",
     "text": [
      "Please enter number of atoms of element 2 in molecule 1 : "
     ]
    },
    {
     "name": "stdin",
     "output_type": "stream",
     "text": [
      " 1\n"
     ]
    },
    {
     "name": "stdout",
     "output_type": "stream",
     "text": [
      "Please enter number of atoms of element 2 in molecule 2 : "
     ]
    },
    {
     "name": "stdin",
     "output_type": "stream",
     "text": [
      " 1\n"
     ]
    },
    {
     "name": "stdout",
     "output_type": "stream",
     "text": [
      "Please enter number of atoms of element 2 in molecule 3 : "
     ]
    },
    {
     "name": "stdin",
     "output_type": "stream",
     "text": [
      " 1\n"
     ]
    },
    {
     "name": "stdout",
     "output_type": "stream",
     "text": [
      "Please enter number of atoms of element 3 in molecule 1 : "
     ]
    },
    {
     "name": "stdin",
     "output_type": "stream",
     "text": [
      " 3\n"
     ]
    },
    {
     "name": "stdout",
     "output_type": "stream",
     "text": [
      "Please enter number of atoms of element 3 in molecule 2 : "
     ]
    },
    {
     "name": "stdin",
     "output_type": "stream",
     "text": [
      " 4\n"
     ]
    },
    {
     "name": "stdout",
     "output_type": "stream",
     "text": [
      "Please enter number of atoms of element 3 in molecule 3 : "
     ]
    },
    {
     "name": "stdin",
     "output_type": "stream",
     "text": [
      " 0\n"
     ]
    },
    {
     "name": "stdout",
     "output_type": "stream",
     "text": [
      "(Matrix([\n",
      "[1, 0, -4],\n",
      "[0, 1, -3],\n",
      "[0, 0,  0]]), (0, 1))\n"
     ]
    }
   ],
   "source": [
    "#Code pulled directly from RRCC Linear Algebra class discussion, coding completed by Kevin Evers, Everett Oklar, Sophia Wyss, Holly Hammons, Alex Langfield and Brett Web, along with\n",
    "#the help of Adam Forland.\n",
    "#Submitted by Stacie Barbarick and Alex Langfield\n",
    "#Annotated by Stacie Barbarick\n",
    "\n",
    "# This code will use linear algebra to find the most reduced coefficients of chemical reactants and products to balance a user input chemical reaction.\n",
    "#import sys\n",
    "\n",
    "from sympy import *\n",
    "#This function will import the library from Python for symbolic computation.\n",
    "\n",
    "import numpy as np\n",
    "# This command will import the libray numpy which allows the program to complete scientific computing, such as with arrays.\n",
    "\n",
    "\n",
    "numElements = int(input(\"Please enter number of indivual elements in the unbalanced equation\\n\"\n",
    "                        \"(i.e. H2 + O2 = H2O has 2 elements, H and O): \"))\n",
    "# This command will require the user to input the number of individual elements and will define the number of rows in the matrix. The coding is defining the number of individual\n",
    "#elements as an integer value that is an input from the user.\n",
    "\n",
    "numReactants = int(input(\"Please input the number of reactants in the unbalanced equation: \"))\n",
    "# This command will require the user to input the number of reactants from the unbalanced chemical equation. The coding is defining the number of Reactants as an integer\n",
    "#value that is an input from the user.\n",
    "\n",
    "\n",
    "numProducts = int(input(\"Please input the number of products in the unbalanced equation: \"))\n",
    "# This command will require the user to input the number of products from the unbalanced chemical equation.  The coding is defining the number of Products as an integer\n",
    "#value that is an input from the user.\n",
    "\n",
    "\n",
    "numMolecules = numReactants + numProducts\n",
    "# This function will sum the total number of molecules in the reactants and products.\n",
    "\n",
    "\n",
    "print(\"\\nPlease enter the number of atoms of each molecule in each element\\n\"\n",
    "      \"i.e. H2 + O2 = H2O\\n\"\n",
    "      \"There are 2 H atoms in molecule 1, 0 H atoms in molecule 2, and 2 H atoms in molecule 3.\\n\"\n",
    "      \"There are 0 O atoms in molecule 1, 2 O atoms in molecule 2, and 1 O atom in moleule 3.\\n\")\n",
    "# This code will provide an example to the user of how to enter data. The print command will display the text to the user.\n",
    "\n",
    "\n",
    "equation = [] # This line of code creates an equation and the brackets create an empty list for the matrix to be built in. This empty list allows list formation that can\n",
    "# be appended later.\n",
    "for i in range(numElements): # This line creates a range for the elements or a row for each element and designates them as i elements.\n",
    "    \n",
    "    elementRow = [] # Similarly this empty list will be used for the row to be built for each atom\n",
    "    \n",
    "    for j in range(numMolecules): #This line creates a column for each molecule and designates them as j molecules.\n",
    "        \n",
    "        print(\"Please enter number of atoms of element\", i + 1, \"in molecule\", j + 1, \": \", end=\"\")\n",
    "        # This print statement would not be accepted into the input function so it's printed separately-according to the programmer.\n",
    "        \n",
    "        numAtoms = int(input())\n",
    "        #This line defines the number of Atoms as an integer value and as an input.\n",
    "        \n",
    "        if (j+1) <= numReactants:\n",
    "            elementRow.append(numAtoms) # This is an \"if else\" statement that tells the computer to execute a specific function if the first statement is true or false.\n",
    "            #So this code will check to see if the number of molecules is larger by 1. The atoms of the reactants must remain the same, so this conditional statement \n",
    "            #will allow the matrix array to remain accurate.\n",
    "            \n",
    "        else: \n",
    "            \n",
    "            elementRow.append(-numAtoms) # This is the else portion of the above conditional statement. It creates a function that if the above conidtion is not met, it will\n",
    "            #add negative atoms to the product side of the equation and subsequently to the matrix.\n",
    "        \n",
    "    equation.append(elementRow) \n",
    "    # After the computer has excuted this if else condition, it will add the row to the empty list we created.\n",
    "    \n",
    "equation = Matrix(equation)\n",
    "# This command will convert the list into a matrix\n",
    "\n",
    "balancedEquation = equation.rref()\n",
    "# RREF is the command for the computer to row reduce the matrix\n",
    "\n",
    "print(balancedEquation)\n",
    "#This command will print the balanced equation for the user."
   ]
  },
  {
   "cell_type": "markdown",
   "metadata": {},
   "source": [
    "#### The output of this row reduction in Python shows agreement with the hand calculated balanced chemical equation in Section 2. "
   ]
  },
  {
   "cell_type": "markdown",
   "metadata": {},
   "source": [
    "### Section 4 : $\\textbf{Conclusion}$"
   ]
  },
  {
   "cell_type": "markdown",
   "metadata": {},
   "source": [
    "#### While the process of balancing chemical equations can be done by hand, there are far more productive, time-saving and free computing tools available.  The example equation used above seems simplistic, however, it demonstrates the advantage gained by using technology in this application. A variation of the functioning code could be applied to any chemical equation, regardless of complexity. The small time investment in the creation of the code will be made up in dividends when it can be used quickly and easily in a countless number of applications. According to G.R Blakely, “the proper place for chemical reasoning is before the equation balancing process and after it, not during it”. [3] With programs such as these in place, scientists will be able to spend more time engaged in such pursuits.\n",
    "##### Works Cited:\n",
    "##### 1.\tHerndon, W. C. (1997). On Balancing Chemical Equations: Past and Present. Journal of Chemical Education, 74(11), 1359. doi:10.1021/ed074p1359\n",
    "##### 2.\tKrishnamurthy, E. V. (1978). Generalized matrix inverse approach for automatic balancing of chemical equations. International Journal of Mathematical Education in Science and Technology, 9(3), 323–328. doi:10.1080/0020739780090310\n",
    "##### 3.\tBlakley, G. R. (1982). Chemical equation balancing: A general method which is quick, simple, and has unexpected applications. Journal of Chemical Education, 59(9), 728. doi:10.1021/ed059p728\n"
   ]
  },
  {
   "cell_type": "code",
   "execution_count": null,
   "metadata": {},
   "outputs": [],
   "source": []
  }
 ],
 "metadata": {
  "kernelspec": {
   "display_name": "Python 3",
   "language": "python",
   "name": "python3"
  },
  "language_info": {
   "codemirror_mode": {
    "name": "ipython",
    "version": 3
   },
   "file_extension": ".py",
   "mimetype": "text/x-python",
   "name": "python",
   "nbconvert_exporter": "python",
   "pygments_lexer": "ipython3",
   "version": "3.6.8"
  }
 },
 "nbformat": 4,
 "nbformat_minor": 2
}
