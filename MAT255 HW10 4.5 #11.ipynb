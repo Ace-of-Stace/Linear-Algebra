{
 "cells": [
  {
   "cell_type": "code",
   "execution_count": 6,
   "metadata": {},
   "outputs": [
    {
     "name": "stdout",
     "output_type": "stream",
     "text": [
      "Stacie Barbarick\n",
      "Linear Algebra\n",
      "Chapter 4.5 Problem 11\n"
     ]
    }
   ],
   "source": [
    "print(\"Stacie Barbarick\\nLinear Algebra\\nChapter 4.5 Problem 11\")"
   ]
  },
  {
   "cell_type": "code",
   "execution_count": 2,
   "metadata": {},
   "outputs": [],
   "source": [
    "from sympy import *\n",
    "from numpy import *"
   ]
  },
  {
   "cell_type": "markdown",
   "metadata": {},
   "source": [
    "#### Find the dimension of the subspace spanned by the given vectors.\n",
    "#### Note: The basis for the space spanned by the vectors {$v_1, v_2, v_3, v_4$} is the same basis for $ColA$ where A={$v_1,v_2,v_3,v_4$}\n"
   ]
  },
  {
   "cell_type": "markdown",
   "metadata": {},
   "source": [
    "$\n",
    "\\begin{equation}v_1=\n",
    "\\begin{bmatrix}\n",
    "1\\\\\n",
    "0\\\\\n",
    "2\\\\\n",
    "\\end{bmatrix} , v_2=\n",
    "\\begin{bmatrix}\n",
    "3\\\\\n",
    "1\\\\\n",
    "1\\\\\n",
    "\\end{bmatrix}, v_3= \n",
    "\\begin{bmatrix}\n",
    "-2\\\\\n",
    "-1\\\\\n",
    "1\\\\\n",
    "\\end{bmatrix}, v_4=\n",
    "\\begin{bmatrix}\n",
    "5\\\\\n",
    "2\\\\\n",
    "2\\\\\n",
    "\\end{bmatrix}\n",
    "\\end{equation}\n",
    "$\n"
   ]
  },
  {
   "cell_type": "markdown",
   "metadata": {},
   "source": [
    "#### Let the subspace be,  $H=span${$v_1,v_2,v_3,v_4$}"
   ]
  },
  {
   "cell_type": "markdown",
   "metadata": {},
   "source": [
    "#### So, consider matrix A, with vectors {$v_1,v_2,v_3,v_4$} as columns."
   ]
  },
  {
   "cell_type": "markdown",
   "metadata": {},
   "source": [
    "$\n",
    "\\begin{equation}A=\n",
    "\\begin{bmatrix}\n",
    "1 & 3 & -2 & 5\\\\\n",
    "0 & 1 & -1 &2\\\\\n",
    "2 & 1 & 1 & 2\\\\\n",
    "\\end{bmatrix} \n",
    "\\end{equation}\n",
    "$\n"
   ]
  },
  {
   "cell_type": "code",
   "execution_count": 3,
   "metadata": {},
   "outputs": [],
   "source": [
    "M = Matrix([[1, 3, -2,5], [0, 1, -1, 2], [2, 1,1, 2]])"
   ]
  },
  {
   "cell_type": "code",
   "execution_count": 4,
   "metadata": {},
   "outputs": [
    {
     "data": {
      "text/latex": [
       "$\\displaystyle \\left[\\begin{matrix}1 & 3 & -2 & 5\\\\0 & 1 & -1 & 2\\\\2 & 1 & 1 & 2\\end{matrix}\\right]$"
      ],
      "text/plain": [
       "Matrix([\n",
       "[1, 3, -2, 5],\n",
       "[0, 1, -1, 2],\n",
       "[2, 1,  1, 2]])"
      ]
     },
     "execution_count": 4,
     "metadata": {},
     "output_type": "execute_result"
    }
   ],
   "source": [
    "M"
   ]
  },
  {
   "cell_type": "code",
   "execution_count": 5,
   "metadata": {},
   "outputs": [
    {
     "data": {
      "text/plain": [
       "(Matrix([\n",
       " [1, 0,  1, 0],\n",
       " [0, 1, -1, 0],\n",
       " [0, 0,  0, 1]]), (0, 1, 3))"
      ]
     },
     "execution_count": 5,
     "metadata": {},
     "output_type": "execute_result"
    }
   ],
   "source": [
    "M.rref()"
   ]
  },
  {
   "cell_type": "markdown",
   "metadata": {},
   "source": [
    "\n",
    "#### From the above matrix, Matrix B, we see that:\n",
    "#### {$b_1, b_2, b_4$} are pivot columns of $A$\n"
   ]
  },
  {
   "cell_type": "markdown",
   "metadata": {},
   "source": [
    "#### Since, the pivot columns of matrix A form a basis for $ColA$, the basis for $ColA$ is:\n",
    "$\n",
    "\\begin{equation}v_1=\n",
    "\\begin{bmatrix}\n",
    "1\\\\\n",
    "0\\\\\n",
    "2\\\\\n",
    "\\end{bmatrix} , v_2=\n",
    "\\begin{bmatrix}\n",
    "3\\\\\n",
    "1\\\\\n",
    "1\\\\\n",
    "\\end{bmatrix}, v_4=\n",
    "\\begin{bmatrix}\n",
    "5\\\\\n",
    "2\\\\\n",
    "2\\\\\n",
    "\\end{bmatrix}\n",
    "\\end{equation}\n",
    "$\n",
    "#### And the basis for the space spanned by the vectors $H=span${$v_1,v_2,v_3,v_4$} is:\n",
    "$\n",
    "\\begin{cases}\n",
    "\\begin{equation}v_1=\n",
    "\\begin{bmatrix}\n",
    "1\\\\\n",
    "0\\\\\n",
    "2\\\\\n",
    "\\end{bmatrix} , v_2=\n",
    "\\begin{bmatrix}\n",
    "3\\\\\n",
    "1\\\\\n",
    "1\\\\\n",
    "\\end{bmatrix}, v_4=\n",
    "\\begin{bmatrix}\n",
    "5\\\\\n",
    "2\\\\\n",
    "2\\\\\n",
    "\\end{bmatrix}\n",
    "\\end{equation}\n",
    "\\end{cases}\n",
    "$"
   ]
  },
  {
   "cell_type": "markdown",
   "metadata": {},
   "source": [
    "##### The above set of vectors are linearly independent since one cannot be made from the others and the zero vector is not present. \n",
    "##### The number of non-zero vectors in the basis is 3. \n",
    "#### Therefore, the dimension of the vector space is 3."
   ]
  },
  {
   "cell_type": "code",
   "execution_count": null,
   "metadata": {},
   "outputs": [],
   "source": []
  },
  {
   "cell_type": "code",
   "execution_count": null,
   "metadata": {},
   "outputs": [],
   "source": []
  }
 ],
 "metadata": {
  "kernelspec": {
   "display_name": "Python 3",
   "language": "python",
   "name": "python3"
  },
  "language_info": {
   "codemirror_mode": {
    "name": "ipython",
    "version": 3
   },
   "file_extension": ".py",
   "mimetype": "text/x-python",
   "name": "python",
   "nbconvert_exporter": "python",
   "pygments_lexer": "ipython3",
   "version": "3.6.8"
  }
 },
 "nbformat": 4,
 "nbformat_minor": 2
}
