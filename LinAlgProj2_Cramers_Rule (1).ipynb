{
 "cells": [
  {
   "cell_type": "code",
   "execution_count": 1,
   "metadata": {},
   "outputs": [],
   "source": [
    "import matplotlib.pyplot as plt\n",
    "import numpy as np\n",
    "import time"
   ]
  },
  {
   "cell_type": "code",
   "execution_count": 2,
   "metadata": {},
   "outputs": [
    {
     "data": {
      "image/png": "[encoded data removed]",
      "text/plain": [
       "<Figure size 432x288 with 1 Axes>"
      ]
     },
     "metadata": {
      "needs_background": "light"
     },
     "output_type": "display_data"
    },
    {
     "name": "stdout",
     "output_type": "stream",
     "text": [
      "35.852668046951294 seconds\n"
     ]
    }
   ],
   "source": [
    "t1 = time.time()\n",
    "S = 100  # Maximum matrix size\n",
    "kramersTimesList = []  # Empty list to store the time values in\n",
    "sizeList = []  # Empty list to store the sizes of the matrices\n",
    "# I used lists to keep track of the values because I was having trouble creating an empty array and then appending\n",
    "# the values to it.\n",
    "\n",
    "\n",
    "for size in range(1,S+1):  # Start at 1 because we need to have the first matrix be of size 1, can't have one of size 0\n",
    "    detA = 0\n",
    "    while detA == 0:  # This will ensure the determinant does not equal zero, ensuring linear independance \n",
    "        # Create an array (matrix) of random integers, min value is 0 by default, max value is set to 10 but can be changed\n",
    "        A = np.random.randint(10, size = [size,size])\n",
    "\n",
    "        detA = np.linalg.det(A)  # Find determinant of A\n",
    "        # This is just in case so to not cause a divide by 0 error in the loop below. This skips the rest of this iteration\n",
    "        # and tries again.\n",
    "        if detA == 0:  \n",
    "            continue\n",
    "\n",
    "        detAi = 0\n",
    "        while detAi == 0:  # Same case as the above while loop\n",
    "            timeStart = time.time()  # Start time\n",
    "            B = np.random.randint(10, size = [size])  # Generate a random B matrix to repalce the columns of A with.\n",
    "            # It is created here so that if, by replacing a column of A, makes detA = 0, it will generate a new B matrix\n",
    "            # and try again.\n",
    "            for i in range(size):\n",
    "                Ai = np.copy(A)  # Copy the A matrix to change columns\n",
    "                Ai[:, i] = B  # Replace column i of Ai (a copy of A) with B\n",
    "                detA = np.linalg.det(A)  # Compute detA again to capture full time that it takes to solve for xi using Kramer's Rule\n",
    "                detAi = np.linalg.det(Ai)  # Compute determinant of Ai\n",
    "                xi = detAi / detA  # Kramer's Rule\n",
    "            timeEnd = time.time()  # End time\n",
    "            timeKramers = timeEnd - timeStart    \n",
    "        \n",
    "    # These are added once an invertible A was created (i.e. detA != 0), and every matrix that was created by replacing each column\n",
    "    # with B was also invertible\n",
    "    sizeList.append(size)  # Add size to the size list\n",
    "    kramersTimesList.append(timeKramers)\n",
    "    \n",
    "\n",
    "# Convert our time and size lists to arrays in order to plot them. pyplot expects arrays as inputs\n",
    "sizes = np.array(sizeList)\n",
    "kramersTimes = np.array(kramersTimesList)\n",
    "\n",
    "# Plot the times\n",
    "plt.plot(sizes, kramersTimes, label='Kramer\\'s Times') \n",
    "plt.xlabel('Size of matrix (n x n)')\n",
    "plt.ylabel('Time (s)')\n",
    "plt.title(\"Kramer's Rule Times\")\n",
    "plt.legend()\n",
    "plt.ticklabel_format(axis='y', scilimits=(0,0))\n",
    "plt.show()\n",
    "t2 = time.time()\n",
    "print(t2 - t1, \"seconds\")"
   ]
  },
  {
   "cell_type": "code",
   "execution_count": null,
   "metadata": {},
   "outputs": [],
   "source": []
  },
  {
   "cell_type": "code",
   "execution_count": null,
   "metadata": {},
   "outputs": [],
   "source": []
  }
 ],
 "metadata": {
  "kernelspec": {
   "display_name": "Python 3",
   "language": "python",
   "name": "python3"
  },
  "language_info": {
   "codemirror_mode": {
    "name": "ipython",
    "version": 3
   },
   "file_extension": ".py",
   "mimetype": "text/x-python",
   "name": "python",
   "nbconvert_exporter": "python",
   "pygments_lexer": "ipython3",
   "version": "3.6.8"
  }
 },
 "nbformat": 4,
 "nbformat_minor": 2
}
