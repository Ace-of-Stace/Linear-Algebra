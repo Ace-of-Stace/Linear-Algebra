{
 "cells": [
  {
   "cell_type": "code",
   "execution_count": 1,
   "metadata": {},
   "outputs": [
    {
     "name": "stdout",
     "output_type": "stream",
     "text": [
      "Stacie Barbarick\n",
      "Linear Algebra\n",
      "Chapter 4.4 Problem 8\n"
     ]
    }
   ],
   "source": [
    "print(\"Stacie Barbarick\\nLinear Algebra\\nChapter 4.4 Problem 8\")"
   ]
  },
  {
   "cell_type": "code",
   "execution_count": 4,
   "metadata": {},
   "outputs": [],
   "source": [
    "from sympy import *\n",
    "from numpy import *"
   ]
  },
  {
   "cell_type": "markdown",
   "metadata": {},
   "source": [
    "#### Find the coordinate vector $[x]_\\mathbb{B}$ of x relative to the given basis $\\mathbb{B}$ = {$b_1$,...$b_n$}.\n"
   ]
  },
  {
   "cell_type": "markdown",
   "metadata": {},
   "source": [
    "$\n",
    "\\begin{equation}\n",
    "b_1 =\n",
    "\\begin{bmatrix}\n",
    "1\\\\\n",
    "1\\\\\n",
    "3\\\\\n",
    "\\end{bmatrix} , \n",
    "b_2 = \n",
    "\\begin{bmatrix}\n",
    "2\\\\\n",
    "0\\\\\n",
    "8\\\\\n",
    "\\end{bmatrix},  \n",
    "b_3 =\n",
    "\\begin{bmatrix}\n",
    "1\\\\\n",
    "-1\\\\\n",
    "3\\\\\n",
    "\\end{bmatrix} x = \n",
    "\\begin{bmatrix}\n",
    "0\\\\\n",
    "0\\\\\n",
    "2\\\\\n",
    "\\end{bmatrix}\n",
    "\\end{equation}\n",
    "$\n"
   ]
  },
  {
   "cell_type": "markdown",
   "metadata": {},
   "source": [
    "#### To find the coordinate vector $c_1b_1 + c_2b_2 + c_3b_3 = x$."
   ]
  },
  {
   "cell_type": "markdown",
   "metadata": {},
   "source": [
    "#### So, $Ax=b$"
   ]
  },
  {
   "cell_type": "markdown",
   "metadata": {},
   "source": [
    "$\n",
    "\\begin{equation}\n",
    "\\begin{bmatrix}\n",
    "1 & 2 & 1\\\\\n",
    "1 & 0 & -1\\\\\n",
    "3 & 8 & 3\\\\\n",
    "\\end{bmatrix} \n",
    "\\begin{bmatrix}\n",
    "c_1\\\\\n",
    "c_2\\\\\n",
    "c_3\\\\\n",
    "\\end{bmatrix} = \n",
    "\\begin{bmatrix}\n",
    "0\\\\\n",
    "0\\\\\n",
    "-2\\\\\n",
    "\\end{bmatrix}\n",
    "\\end{equation}\n",
    "$\n"
   ]
  },
  {
   "cell_type": "code",
   "execution_count": 5,
   "metadata": {},
   "outputs": [],
   "source": [
    "M = Matrix([[1, 2, 1,0], [1, 0, -1, 0], [3, 8, 3, -2]])"
   ]
  },
  {
   "cell_type": "code",
   "execution_count": 6,
   "metadata": {},
   "outputs": [
    {
     "data": {
      "text/latex": [
       "$\\displaystyle \\left[\\begin{matrix}1 & 2 & 1 & 0\\\\1 & 0 & -1 & 0\\\\3 & 8 & 3 & -2\\end{matrix}\\right]$"
      ],
      "text/plain": [
       "Matrix([\n",
       "[1, 2,  1,  0],\n",
       "[1, 0, -1,  0],\n",
       "[3, 8,  3, -2]])"
      ]
     },
     "execution_count": 6,
     "metadata": {},
     "output_type": "execute_result"
    }
   ],
   "source": [
    "M"
   ]
  },
  {
   "cell_type": "code",
   "execution_count": 7,
   "metadata": {},
   "outputs": [
    {
     "data": {
      "text/plain": [
       "(Matrix([\n",
       " [1, 0, 0,  1],\n",
       " [0, 1, 0, -1],\n",
       " [0, 0, 1,  1]]), (0, 1, 2))"
      ]
     },
     "execution_count": 7,
     "metadata": {},
     "output_type": "execute_result"
    }
   ],
   "source": [
    "M.rref()"
   ]
  },
  {
   "cell_type": "markdown",
   "metadata": {},
   "source": [
    "\n",
    "#### From the above, we see that:\n",
    "$c_1 = 1 \\\\ c_2 = -1 \\\\ c_3 = 1\\\\ 0 = 0$\n"
   ]
  },
  {
   "cell_type": "markdown",
   "metadata": {},
   "source": [
    "#### Therefore the required coordinate vector is\n",
    "$\n",
    "\\begin{equation}\\ \n",
    "[x]_\\mathbb{B} = \n",
    "\\begin{bmatrix}\n",
    "1\\\\\n",
    "-1\\\\\n",
    "1\\\\\n",
    "\\end{bmatrix}\n",
    "\\end{equation}\n",
    "$"
   ]
  },
  {
   "cell_type": "code",
   "execution_count": null,
   "metadata": {},
   "outputs": [],
   "source": []
  }
 ],
 "metadata": {
  "kernelspec": {
   "display_name": "Python 3",
   "language": "python",
   "name": "python3"
  },
  "language_info": {
   "codemirror_mode": {
    "name": "ipython",
    "version": 3
   },
   "file_extension": ".py",
   "mimetype": "text/x-python",
   "name": "python",
   "nbconvert_exporter": "python",
   "pygments_lexer": "ipython3",
   "version": "3.6.8"
  }
 },
 "nbformat": 4,
 "nbformat_minor": 2
}
