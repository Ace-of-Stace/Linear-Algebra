{
 "cells": [
  {
   "cell_type": "markdown",
   "metadata": {},
   "source": [
    "#### Stacie Barbarick Linear Algebra  Exam 1 Terms"
   ]
  },
  {
   "cell_type": "markdown",
   "metadata": {},
   "source": [
    " ### Let  $T$ : $\\mathbb{R}^n \\rightarrow \\mathbb{R}^m$"
   ]
  },
  {
   "cell_type": "markdown",
   "metadata": {},
   "source": [
    "#### ${\\textbf{One-to-One:}}$ A mapping of $T$ : $\\mathbb{R}^n \\rightarrow \\mathbb{R}^m$ is said to be ${\\textbf{One-to-One}}$ if each ${\\textbf{b}}$ in $\\mathbb{R}^m$ is the image of at most one ${\\textbf{x}}$ in $\\mathbb{R}^n$."
   ]
  },
  {
   "cell_type": "markdown",
   "metadata": {},
   "source": [
    "#### ${\\textbf{Onto:}}$ A mapping of $T$ : $\\mathbb{R}^n \\rightarrow \\mathbb{R}^m$ is said to be ${\\textbf{Onto}}$  $\\mathbb{R}^m$ if each ${\\textbf{b}}$ in $\\mathbb{R}^m$ is the image of at least one ${\\textbf{x}}$ in $\\mathbb{R}^n$."
   ]
  },
  {
   "cell_type": "markdown",
   "metadata": {},
   "source": [
    "#### A rectangular matrix or collected array is in ${\\textbf{echelon form}}$ if it has:\n",
    "##### 1. Complete zero rows at the bottom.\n",
    "##### 2. Leading entries are read from left-to-right and top-to-bottom.\n",
    "##### 3. All values in columns below leading entries are $0$.\n",
    "\n",
    "##### For example: \n",
    "$$\n",
    "\\begin{bmatrix}\n",
    "\\# & \\# & \\# & \\#\\\\\n",
    "0 & \\# & \\# & \\#\\\\ \n",
    "0& 0& \\# & \\#\\\\ \n",
    "0 & 0 & 0 & \\#\\end{bmatrix}$$\n",
    "\n",
    "#### A rectangular matrix or collected array is in ${\\textbf{reduced echelon form}}$ if it has:\n",
    "##### 4. Leading entries are 1.\n",
    "##### 5. Each leading entry is the only non-zetro entry in it's column.\n",
    "##### For example: \n",
    "$$\n",
    "\\begin{bmatrix}\n",
    "1 & 0 & 0 & 0\\\\\n",
    "0 & 1 & 0 & 0\\\\ \n",
    "0& 0& 1 & 0\\\\ \n",
    "0 & 0 & 0 & 1\\end{bmatrix}$$\n",
    "#### The most amazing thing about a matrix in ${\\textbf{reduced echelon form}}$ is that it is UNIQUE....."
   ]
  },
  {
   "cell_type": "markdown",
   "metadata": {},
   "source": [
    "#### If a matrix is in row-echelon form, then the first nonzero entry of each row is called a ${\\textbf{pivot}}$, and the columns in which ${\\textbf{pivots}}$ appear are called ${\\textbf{pivot columns}}$.\n"
   ]
  },
  {
   "cell_type": "markdown",
   "metadata": {},
   "source": [
    "### ${\\textbf{Theorem 1}}$ : Each matrix is row equivalent to one and only one ${\\textbf{reduced echelon form}}$."
   ]
  },
  {
   "cell_type": "markdown",
   "metadata": {},
   "source": [
    "#### What does it mean for a system to be ${\\textbf{consistent}}$? A ${\\textbf{consistent system}}$ is one in which there is at least one solution to that system. In a homogenous system of equations, all are set equal to zero. So in an equation Ax=b, where A is the coefficient matrix and ${\\textbf{b}}$ is the zero vector. For this system, $x=0$ will always be a solution. So homogenous systems are always ${\\textbf{consistent}}$."
   ]
  },
  {
   "cell_type": "markdown",
   "metadata": {},
   "source": [
    "#### If $\\{ v_1, ..., v_4 \\}$ are in $\\mathbb{R}^4$ and $\\{ v_1, v_2, v_3 \\}$ is ${\\textbf{linearly independent}}$, then $\\{ v_1, v_2, v_3, v_4 \\}$ is also ${\\textbf{linearly independent}}$. A set of vectors is ${\\textbf{linearly independent}}$ if no vector in the set is (a) a scalar multiple of another vector in the set or (b) a linear combination of other vectors in the set."
   ]
  },
  {
   "cell_type": "markdown",
   "metadata": {},
   "source": [
    "#### A set of vectors ${\\textbf{spans}}$ a space if every other vector in the space can be written as a linear combination of the spanning set."
   ]
  },
  {
   "cell_type": "markdown",
   "metadata": {},
   "source": [
    "#### The ${\\textbf{parametric form}}$ of a vector is a term that describes many equivalent equations that have the correct form. This form includes appropriately weighted variables. "
   ]
  },
  {
   "cell_type": "markdown",
   "metadata": {},
   "source": [
    "#### A mapping of $T$ : $\\mathbb{R}^2 \\rightarrow \\mathbb{R}^2$ is a ${\\textbf{linear map}}$ between two vector spaces if it preserves the operations of addition and scalar multiplication."
   ]
  },
  {
   "cell_type": "markdown",
   "metadata": {},
   "source": [
    "#### What does it mean for a map to be a ${\\textbf{linear map}}$? It means that it meets the criteria for being linear: \n",
    "#### 1. $T[A+B] = T[A] + T[B]$\n",
    "#### 2. $T[cA] = cT[A]$"
   ]
  },
  {
   "cell_type": "code",
   "execution_count": null,
   "metadata": {},
   "outputs": [],
   "source": []
  }
 ],
 "metadata": {
  "kernelspec": {
   "display_name": "Python 3",
   "language": "python",
   "name": "python3"
  },
  "language_info": {
   "codemirror_mode": {
    "name": "ipython",
    "version": 3
   },
   "file_extension": ".py",
   "mimetype": "text/x-python",
   "name": "python",
   "nbconvert_exporter": "python",
   "pygments_lexer": "ipython3",
   "version": "3.6.8"
  }
 },
 "nbformat": 4,
 "nbformat_minor": 2
}
