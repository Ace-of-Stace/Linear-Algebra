{
 "cells": [
  {
   "cell_type": "markdown",
   "metadata": {},
   "source": [
    "### Stacie Barbarick, Linear Algebra, Chapter 4.2 Problem 5"
   ]
  },
  {
   "cell_type": "markdown",
   "metadata": {},
   "source": [
    "#### Determine if  $b$ is a linear transformation of matrix $A$."
   ]
  },
  {
   "cell_type": "code",
   "execution_count": 5,
   "metadata": {},
   "outputs": [],
   "source": [
    "from sympy import *\n",
    "init_printing=True"
   ]
  },
  {
   "cell_type": "markdown",
   "metadata": {},
   "source": [
    "##### Matrix A:"
   ]
  },
  {
   "cell_type": "code",
   "execution_count": 7,
   "metadata": {},
   "outputs": [],
   "source": [
    "M = Matrix([[1, -4, 0, 2, 0], [0, 0, 1, -5, 0], [0, 0, 0, 0, 2]])"
   ]
  },
  {
   "cell_type": "code",
   "execution_count": 8,
   "metadata": {},
   "outputs": [
    {
     "data": {
      "text/latex": [
       "$\\displaystyle \\left[\\begin{matrix}1 & -4 & 0 & 2 & 0\\\\0 & 0 & 1 & -5 & 0\\\\0 & 0 & 0 & 0 & 2\\end{matrix}\\right]$"
      ],
      "text/plain": [
       "Matrix([\n",
       "[1, -4, 0,  2, 0],\n",
       "[0,  0, 1, -5, 0],\n",
       "[0,  0, 0,  0, 2]])"
      ]
     },
     "execution_count": 8,
     "metadata": {},
     "output_type": "execute_result"
    }
   ],
   "source": [
    "M"
   ]
  },
  {
   "cell_type": "markdown",
   "metadata": {},
   "source": [
    "##### Next, find the general solution to the augmented matrix of $Ax=0$"
   ]
  },
  {
   "cell_type": "markdown",
   "metadata": {},
   "source": [
    "$\n",
    "\\begin{equation}\n",
    "\\begin{bmatrix}\n",
    "1 & -4 & 0 & 2 & 0\\\\\n",
    "0 & 0 & 1 & -5 & 0\\\\ \n",
    "0 & 0 & 0 & 0 & 2\\\\ \n",
    "\\end{bmatrix}  \\begin{bmatrix}\n",
    "x_1\\\\\n",
    "x_2\\\\ \n",
    "x_3\\\\ \n",
    "x_4\\\\\n",
    "x_5\\end{bmatrix} = \\begin{bmatrix}\n",
    "0\\\\ \n",
    "0\\\\ \n",
    "0\\\\\n",
    "\\end{bmatrix}\n",
    "\\end{equation}\n",
    "$"
   ]
  },
  {
   "cell_type": "code",
   "execution_count": 10,
   "metadata": {},
   "outputs": [],
   "source": [
    "M = Matrix([[1, -4, 0, 2, 0, 0], [0, 0, 1, -5, 0, 0], [0, 0, 0, 0, 2, 0]])"
   ]
  },
  {
   "cell_type": "code",
   "execution_count": 11,
   "metadata": {},
   "outputs": [
    {
     "data": {
      "text/latex": [
       "$\\displaystyle \\left[\\begin{matrix}1 & -4 & 0 & 2 & 0 & 0\\\\0 & 0 & 1 & -5 & 0 & 0\\\\0 & 0 & 0 & 0 & 2 & 0\\end{matrix}\\right]$"
      ],
      "text/plain": [
       "Matrix([\n",
       "[1, -4, 0,  2, 0, 0],\n",
       "[0,  0, 1, -5, 0, 0],\n",
       "[0,  0, 0,  0, 2, 0]])"
      ]
     },
     "execution_count": 11,
     "metadata": {},
     "output_type": "execute_result"
    }
   ],
   "source": [
    "M"
   ]
  },
  {
   "cell_type": "code",
   "execution_count": 12,
   "metadata": {},
   "outputs": [
    {
     "data": {
      "text/plain": [
       "(Matrix([\n",
       " [1, -4, 0,  2, 0, 0],\n",
       " [0,  0, 1, -5, 0, 0],\n",
       " [0,  0, 0,  0, 1, 0]]), (0, 2, 4))"
      ]
     },
     "execution_count": 12,
     "metadata": {},
     "output_type": "execute_result"
    }
   ],
   "source": [
    "M.rref()"
   ]
  },
  {
   "cell_type": "markdown",
   "metadata": {},
   "source": [
    "##### Therefore, $x_2$ and $x_4$ are free variables\n",
    "##### $x_1-4x_2+2x_4 = 0$\n",
    "##### $x_3-5x_4 = 0$\n",
    "##### $x_5=0$"
   ]
  },
  {
   "cell_type": "markdown",
   "metadata": {},
   "source": [
    "#### If we name $x_2$ and $x_4$ as free variables, $p_1$ and $p_2$ respectively, and then solve the system of equations in terms of those variables, we get:"
   ]
  },
  {
   "cell_type": "markdown",
   "metadata": {},
   "source": [
    "$\n",
    "\\begin{equation}\n",
    "\\begin{bmatrix}\n",
    "x_1\\\\\n",
    "x_2\\\\ \n",
    "x_3\\\\ \n",
    "x_4\\\\\n",
    "x_5\\end{bmatrix} = \\begin{bmatrix}\n",
    "4p_1 - 2p_2\\\\ \n",
    "p_1\\\\ \n",
    "5p_2\\\\\n",
    "p_2\\\\\n",
    "0\\\\\n",
    "\\end{bmatrix} = \\begin{bmatrix}\n",
    "4\\\\\n",
    "1\\\\\n",
    "0\\\\\n",
    "0\\\\\n",
    "0\\\\\n",
    "\\end{bmatrix}p_1 + \\begin{bmatrix}\n",
    "-2\\\\\n",
    "0\\\\\n",
    "5\\\\\n",
    "1\\\\\n",
    "0\\\\\n",
    "\\end{bmatrix}p_2 = \\vec{u}p_1 + p_2\\vec{v}\n",
    "\\end{equation}\n",
    "$\n"
   ]
  },
  {
   "cell_type": "markdown",
   "metadata": {},
   "source": [
    "#### From above we see that every linear combination of $\\vec{u}$ and $\\vec{v}$ is an element of $NulA$"
   ]
  },
  {
   "cell_type": "markdown",
   "metadata": {},
   "source": [
    "#### Thus, \n",
    "$\n",
    "\\begin{equation}\n",
    "\\begin{bmatrix}\n",
    "4\\\\\n",
    "1\\\\\n",
    "0\\\\\n",
    "0\\\\\n",
    "0\\\\\n",
    "\\end{bmatrix} , \\begin{bmatrix}\n",
    "-2\\\\\n",
    "0\\\\\n",
    "5\\\\\n",
    "1\\\\\n",
    "0\\\\\n",
    "\\end{bmatrix}\n",
    "\\end{equation}\n",
    "$\n",
    "##### is a spanning set for $NulA$."
   ]
  },
  {
   "cell_type": "markdown",
   "metadata": {},
   "source": [
    "#### Note to Future Coding Stacie: Remeber that to put a vector arrow over a variable u, the code is \\vec{u} and \n",
    "#### the number of dollar signs sets the indent of the display. $$ indents to middle; $ indents to left"
   ]
  },
  {
   "cell_type": "code",
   "execution_count": null,
   "metadata": {},
   "outputs": [],
   "source": []
  }
 ],
 "metadata": {
  "kernelspec": {
   "display_name": "Python 3",
   "language": "python",
   "name": "python3"
  },
  "language_info": {
   "codemirror_mode": {
    "name": "ipython",
    "version": 3
   },
   "file_extension": ".py",
   "mimetype": "text/x-python",
   "name": "python",
   "nbconvert_exporter": "python",
   "pygments_lexer": "ipython3",
   "version": "3.6.8"
  }
 },
 "nbformat": 4,
 "nbformat_minor": 2
}
