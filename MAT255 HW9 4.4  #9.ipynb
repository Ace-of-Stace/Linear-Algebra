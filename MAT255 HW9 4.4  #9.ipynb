{
 "cells": [
  {
   "cell_type": "code",
   "execution_count": 2,
   "metadata": {},
   "outputs": [
    {
     "name": "stdout",
     "output_type": "stream",
     "text": [
      "Stacie Barbarick\n",
      "Linear Algebra\n",
      "Chapter 4.4 Problem 10\n"
     ]
    }
   ],
   "source": [
    "print(\"Stacie Barbarick\\nLinear Algebra\\nChapter 4.4 Problem 10\")"
   ]
  },
  {
   "cell_type": "code",
   "execution_count": 4,
   "metadata": {},
   "outputs": [],
   "source": [
    "from sympy import *\n",
    "from numpy import *"
   ]
  },
  {
   "cell_type": "markdown",
   "metadata": {},
   "source": [
    "#### Consider the basis $\\mathbb{B}$.\n"
   ]
  },
  {
   "cell_type": "markdown",
   "metadata": {},
   "source": [
    "$\n",
    "\\begin{equation}\n",
    "\\begin{bmatrix}\n",
    "1\\\\\n",
    "-3\\\\\n",
    "\\end{bmatrix}\n",
    "\\begin{bmatrix}\n",
    "2\\\\\n",
    "-5\\\\\n",
    "\\end{bmatrix} \n",
    "\\end{equation}\n",
    "$"
   ]
  },
  {
   "cell_type": "markdown",
   "metadata": {},
   "source": [
    "$\n",
    "\\begin{equation}\n",
    "b_1 =\n",
    "\\begin{bmatrix}\n",
    "1\\\\\n",
    "3\\\\\n",
    "\\end{bmatrix}, b_2 =\n",
    "\\begin{bmatrix}\n",
    "2\\\\\n",
    "-5\\\\\n",
    "\\end{bmatrix} \n",
    "\\end{equation}\n",
    "$\n"
   ]
  },
  {
   "cell_type": "markdown",
   "metadata": {},
   "source": [
    "#### $\\mathbb{B}$ = {$b_1$, $b_2$}"
   ]
  },
  {
   "cell_type": "markdown",
   "metadata": {},
   "source": [
    "\n",
    "$\n",
    "\\begin{equation}\n",
    "[x]_\\mathbb{B} =\n",
    "\\begin{bmatrix}\n",
    "1 & 2\\\\\n",
    "-3 & -5\\\\\n",
    "\\end{bmatrix} \n",
    "\\end{equation}\n",
    "$\n"
   ]
  }
 ],
 "metadata": {
  "kernelspec": {
   "display_name": "Python 3",
   "language": "python",
   "name": "python3"
  },
  "language_info": {
   "codemirror_mode": {
    "name": "ipython",
    "version": 3
   },
   "file_extension": ".py",
   "mimetype": "text/x-python",
   "name": "python",
   "nbconvert_exporter": "python",
   "pygments_lexer": "ipython3",
   "version": "3.6.8"
  }
 },
 "nbformat": 4,
 "nbformat_minor": 2
}
