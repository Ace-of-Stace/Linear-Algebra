{
 "cells": [
  {
   "cell_type": "markdown",
   "metadata": {},
   "source": [
    "### Stacie Barbarick, Linear Algebra Exam III, Problem #4"
   ]
  },
  {
   "cell_type": "markdown",
   "metadata": {},
   "source": [
    "##### Show that the coordinate mapping is onto $\\mathbb{R}^n$. That is,given any $\\textbf{y}$ in $\\mathbb{R}^n$, with entries $y_1, y_2, y_3,...y_n$, produce u in V such that $[u] _\\mathbb{B}=y$."
   ]
  },
  {
   "cell_type": "markdown",
   "metadata": {},
   "source": [
    "##### $\\underline{Definition:}$ A mapping $T:\\mathbb{R}^n \\rightarrow \\mathbb{R}^m$ is said to be $\\textbf{ONTO}$ $\\mathbb{R}^m$ if each $\\overrightarrow{b}$in $\\mathbb{R}^m$is the image of at least one $\\overrightarrow{x}$ in $\\mathbb{R}^n$ or in other words, $T$ maps $\\mathbb{R}^n$  $\\textbf{ONTO}$  $\\mathbb{R}^m$, if for each $\\overrightarrow{b}$ in the co-domain $\\mathbb{R}^m$ there exists at least one solution of $T(\\overrightarrow{x})=\\overrightarrow{b}$."
   ]
  },
  {
   "cell_type": "markdown",
   "metadata": {},
   "source": [
    "##### $\\underline{Theorem\\ 4.7:}$ Let $\\mathbb{B}$ = {$b_1,...b_n$} be a basis for a vector space V. Then for each x in V, there exists a unique set of scalars $c_1,....c_n$ such that $\\textbf{$x=c_1b_1 +....+c_nb_n$}$"
   ]
  },
  {
   "cell_type": "markdown",
   "metadata": {},
   "source": [
    "##### $\\underline{Definition:}$ Suppose $\\mathbb{B}$ = {$b_1,....,b_n$} is a basis for V and x is in V. The $\\textbf{coordinates of x, relative to the basis $\\mathbb{B}$}$ are the weights $c_1,....c_n$ such that $x=c_1b_1+....+c_nb_n$. If $c_1,....c_n$ are the $\\mathbb{B}$-coordinates of $\\textbf{x}$, then the vector in $\\mathbb{R}^n$\n",
    "$$\n",
    "\\begin{equation}\n",
    "\\begin{bmatrix}\n",
    "x\\\\\n",
    "\\end{bmatrix} _\\mathbb{B}=\n",
    "\\begin{bmatrix}\n",
    "c_1\\\\\n",
    ".\\\\\n",
    ".\\\\\n",
    ".\\\\\n",
    ".\\\\\n",
    "c_n\\\\\n",
    "\\end{bmatrix} \n",
    "\\end{equation}\n",
    "$$\n"
   ]
  },
  {
   "cell_type": "markdown",
   "metadata": {},
   "source": [
    "#### $\\underline{\\textbf{Proof}}$: So, to verify that the coordinate map is onto, take any element $\\overrightarrow{y}$ $\\in$ $\\mathbb{R}^n$ denoted by:\n",
    "\\begin{equation}\n",
    "\\begin{bmatrix}\n",
    "y\\\\\n",
    "\\end{bmatrix}=\n",
    "\\begin{bmatrix}\n",
    "y_1\\\\\n",
    "y_2\\\\\n",
    ".\\\\\n",
    ".\\\\\n",
    ".\\\\\n",
    "y_n\\\\\n",
    "\\end{bmatrix} \n",
    "\\in\n",
    "\\mathbb{R}^n\n",
    "\\end{equation}\n"
   ]
  },
  {
   "cell_type": "markdown",
   "metadata": {},
   "source": [
    "#### Let $\\mathbb{B}$={$b_1, b_2,....b_n$} is a basis of V and $\\textbf{u}$ is in V. The coordinates of $\\textbf{u}$ relative to the basis $\\mathbb{B}$ are the weights $y_1, y_2,....,y_n$ such that $\\textbf{u} = y_1b_1+y_2b_2+....+ y_nb_n$. If $y_1, y_2,....y_n$ are the $\\mathbb{B}$-coordinates of $\\textbf{u}$, then the coordinate vector of $\\textbf{u}$ is:"
   ]
  },
  {
   "cell_type": "markdown",
   "metadata": {},
   "source": [
    "\\begin{equation}\n",
    "\\begin{bmatrix}\n",
    "u\\\\\n",
    "\\end{bmatrix}_\\mathbb{B}=\n",
    "\\begin{bmatrix}\n",
    "y_1\\\\\n",
    "y_2\\\\\n",
    ".\\\\\n",
    ".\\\\\n",
    ".\\\\\n",
    "y_n\\\\\n",
    "\\end{bmatrix} \n",
    "\\end{equation}"
   ]
  },
  {
   "cell_type": "markdown",
   "metadata": {},
   "source": [
    "#### $$\\textbf{[u]}_\\mathbb{B} = \\textbf{y}$$"
   ]
  },
  {
   "cell_type": "markdown",
   "metadata": {},
   "source": [
    "##### So, any arbitrary element from $y \\in \\mathbb{R}^n$ there exists an element $\\textbf{u} \\in V$ such that $\\textbf{[u]}_\\mathbb{B} = \\textbf{y}$"
   ]
  },
  {
   "cell_type": "markdown",
   "metadata": {},
   "source": [
    "#### Every vector in $\\mathbb{R}^n$ has a corresponding coordinate mapping. $\\textbf{Therefore}$ the coordinate map, $\\textbf{u} \\longmapsto$ [$\\textbf{u}$]$_\\mathbb{B}$ is $\\textbf{ONTO}.\n",
    "\\blacksquare$"
   ]
  },
  {
   "cell_type": "code",
   "execution_count": null,
   "metadata": {},
   "outputs": [],
   "source": []
  }
 ],
 "metadata": {
  "kernelspec": {
   "display_name": "Python 3",
   "language": "python",
   "name": "python3"
  },
  "language_info": {
   "codemirror_mode": {
    "name": "ipython",
    "version": 3
   },
   "file_extension": ".py",
   "mimetype": "text/x-python",
   "name": "python",
   "nbconvert_exporter": "python",
   "pygments_lexer": "ipython3",
   "version": "3.6.8"
  }
 },
 "nbformat": 4,
 "nbformat_minor": 2
}
