{
 "cells": [
  {
   "cell_type": "markdown",
   "metadata": {},
   "source": [
    "##### Stacie Barbarick, Linear Algebra, Chapter 1.8 Problem 10"
   ]
  },
  {
   "cell_type": "markdown",
   "metadata": {},
   "source": [
    "##### Find all $x$ in $\\mathbb{R}^4$ that are mapped into the zero vector by the trandformation $x$ into $Ax$ for the given matrix $A$."
   ]
  },
  {
   "cell_type": "code",
   "execution_count": 1,
   "metadata": {},
   "outputs": [],
   "source": [
    "from sympy import *"
   ]
  },
  {
   "cell_type": "markdown",
   "metadata": {},
   "source": [
    "##### Matrix A:"
   ]
  },
  {
   "cell_type": "code",
   "execution_count": 10,
   "metadata": {},
   "outputs": [],
   "source": [
    "M = Matrix([[3, 2, 10, -6], [1, 0, 2, -4], [0, 1, 2, 3], [1, 4, 10, 8]])"
   ]
  },
  {
   "cell_type": "code",
   "execution_count": 11,
   "metadata": {},
   "outputs": [
    {
     "data": {
      "text/latex": [
       "$\\displaystyle \\left[\\begin{matrix}3 & 2 & 10 & -6\\\\1 & 0 & 2 & -4\\\\0 & 1 & 2 & 3\\\\1 & 4 & 10 & 8\\end{matrix}\\right]$"
      ],
      "text/plain": [
       "Matrix([\n",
       "[3, 2, 10, -6],\n",
       "[1, 0,  2, -4],\n",
       "[0, 1,  2,  3],\n",
       "[1, 4, 10,  8]])"
      ]
     },
     "execution_count": 11,
     "metadata": {},
     "output_type": "execute_result"
    }
   ],
   "source": [
    "M"
   ]
  },
  {
   "cell_type": "markdown",
   "metadata": {},
   "source": [
    "##### Augmented Matrix of $Ax=0$"
   ]
  },
  {
   "cell_type": "markdown",
   "metadata": {},
   "source": [
    "$$\n",
    "\\begin{equation}\n",
    "\\begin{bmatrix}\n",
    "3& 2&  10& 6\\\\\n",
    "1& 0&  2&  4\\\\ \n",
    "0& 1& 2& 3\\\\ \n",
    "1& 4& 10& 8\\end{bmatrix}  \\begin{bmatrix}\n",
    "x_1\\\\\n",
    "x_2\\\\ \n",
    "x_3\\\\ \n",
    "x_4\\\\\\end{bmatrix} = \\begin{bmatrix}\n",
    "0\\\\ \n",
    "0 \\\\ \n",
    "0 \\\\\n",
    "0\\\\\n",
    "\\end{bmatrix}\n",
    "\\end{equation}\n",
    "$$"
   ]
  },
  {
   "cell_type": "code",
   "execution_count": 12,
   "metadata": {},
   "outputs": [],
   "source": [
    "M = Matrix([[3, 2, 10, -6, 0], [1, 0, 2, -4, 0], [0, 1, 2, 3, 0], [1, 4, 10, 8, 0]])"
   ]
  },
  {
   "cell_type": "code",
   "execution_count": 13,
   "metadata": {},
   "outputs": [
    {
     "data": {
      "text/latex": [
       "$\\displaystyle \\left[\\begin{matrix}3 & 2 & 10 & -6 & 0\\\\1 & 0 & 2 & -4 & 0\\\\0 & 1 & 2 & 3 & 0\\\\1 & 4 & 10 & 8 & 0\\end{matrix}\\right]$"
      ],
      "text/plain": [
       "Matrix([\n",
       "[3, 2, 10, -6, 0],\n",
       "[1, 0,  2, -4, 0],\n",
       "[0, 1,  2,  3, 0],\n",
       "[1, 4, 10,  8, 0]])"
      ]
     },
     "execution_count": 13,
     "metadata": {},
     "output_type": "execute_result"
    }
   ],
   "source": [
    "M"
   ]
  },
  {
   "cell_type": "code",
   "execution_count": 14,
   "metadata": {},
   "outputs": [
    {
     "data": {
      "text/plain": [
       "(Matrix([\n",
       " [1, 0, 2, -4, 0],\n",
       " [0, 1, 2,  3, 0],\n",
       " [0, 0, 0,  0, 0],\n",
       " [0, 0, 0,  0, 0]]), (0, 1))"
      ]
     },
     "execution_count": 14,
     "metadata": {},
     "output_type": "execute_result"
    }
   ],
   "source": [
    "M.rref()"
   ]
  },
  {
   "cell_type": "markdown",
   "metadata": {},
   "source": [
    "#### System of Equations:\n",
    "$x_1+2x_3-4x_3 = 0 \\rightarrow x_1=-2x_3 +4\\\\ x_2+2x_3+3x_3 = 0 \\rightarrow x_2=-2x_3-2x_4\\\\ x_3=free\\\\ x_4=free$\\\\\n"
   ]
  },
  {
   "cell_type": "markdown",
   "metadata": {},
   "source": [
    "#### The general solution of $Ax=0$ is: "
   ]
  },
  {
   "cell_type": "markdown",
   "metadata": {},
   "source": [
    "$$\n",
    "\\begin{equation}\n",
    "x_3\n",
    "\\begin{bmatrix}\n",
    "-2\\\\\n",
    "-2\\\\ \n",
    "1\\\\ \n",
    "0\\\\\n",
    "\\end{bmatrix} +  x_4\n",
    "\\begin{bmatrix}\n",
    "4\\\\\n",
    "-3\\\\ \n",
    "0\\\\ \n",
    "1\\\\\n",
    "\\end{bmatrix}\n",
    "\\end{equation}\n",
    "$$"
   ]
  },
  {
   "cell_type": "code",
   "execution_count": null,
   "metadata": {},
   "outputs": [],
   "source": []
  }
 ],
 "metadata": {
  "kernelspec": {
   "display_name": "Python 3",
   "language": "python",
   "name": "python3"
  },
  "language_info": {
   "codemirror_mode": {
    "name": "ipython",
    "version": 3
   },
   "file_extension": ".py",
   "mimetype": "text/x-python",
   "name": "python",
   "nbconvert_exporter": "python",
   "pygments_lexer": "ipython3",
   "version": "3.6.8"
  }
 },
 "nbformat": 4,
 "nbformat_minor": 2
}
