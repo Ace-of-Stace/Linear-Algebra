{
 "cells": [
  {
   "cell_type": "code",
   "execution_count": 1,
   "metadata": {},
   "outputs": [
    {
     "name": "stdout",
     "output_type": "stream",
     "text": [
      "Stacie Barbarick\n",
      "Linear Algebra\n",
      "Chapter 4.3 Problem 8\n"
     ]
    }
   ],
   "source": [
    "print(\"Stacie Barbarick\\nLinear Algebra\\nChapter 4.3 Problem 8\")"
   ]
  },
  {
   "cell_type": "code",
   "execution_count": 5,
   "metadata": {},
   "outputs": [],
   "source": [
    "from sympy import *"
   ]
  },
  {
   "cell_type": "markdown",
   "metadata": {},
   "source": [
    "#### Determine whether the set is a basis for $\\mathbb{R}^3$. (Of the sets that are not bases, determine which ones are linearly dependent and which ones span $\\mathbb{R}^3$).\n"
   ]
  },
  {
   "cell_type": "markdown",
   "metadata": {},
   "source": [
    "$\n",
    "\\begin{equation}\n",
    "\\begin{bmatrix}\n",
    "1\\\\\n",
    "-2\\\\\n",
    "3\\\\\n",
    "\\end{bmatrix} , \\begin{bmatrix}\n",
    "0\\\\\n",
    "3\\\\\n",
    "-1\\\\\n",
    "\\end{bmatrix},  \\begin{bmatrix}\n",
    "2\\\\\n",
    "-1\\\\\n",
    "5\\\\\n",
    "\\end{bmatrix},  \\begin{bmatrix}\n",
    "0\\\\\n",
    "0\\\\\n",
    "-1\\\\\n",
    "\\end{bmatrix}\n",
    "\\end{equation}\n",
    "$\n"
   ]
  },
  {
   "cell_type": "markdown",
   "metadata": {},
   "source": [
    "#### To check and see if vectors are linearly independent:"
   ]
  },
  {
   "cell_type": "markdown",
   "metadata": {},
   "source": [
    "$\n",
    "\\begin{equation}\n",
    "v_1 =\n",
    "\\begin{bmatrix}\n",
    "1\\\\\n",
    "-2\\\\\n",
    "3\\\\\n",
    "\\end{bmatrix} , \n",
    "v_2 = \n",
    "\\begin{bmatrix}\n",
    "0\\\\\n",
    "3\\\\\n",
    "-1\\\\\n",
    "\\end{bmatrix},  \n",
    "v_3 =\n",
    "\\begin{bmatrix}\n",
    "2\\\\\n",
    "-1\\\\\n",
    "5\\\\\n",
    "\\end{bmatrix},  v_4 = \n",
    "\\begin{bmatrix}\n",
    "0\\\\\n",
    "0\\\\\n",
    "-1\\\\\n",
    "\\end{bmatrix}\n",
    "\\end{equation}\n",
    "$\n"
   ]
  },
  {
   "cell_type": "markdown",
   "metadata": {},
   "source": [
    "#### By definition of linearly independent $c_1v_1 + c_2v_2 + c_3v_3 + . . . . + c_pv_p = 0$, where constants, $c_1, c_2, ..., c_p$ are some weights, has only the trivial solution."
   ]
  },
  {
   "cell_type": "markdown",
   "metadata": {},
   "source": [
    "#### So, if the weights and vectors are visualized in a linear combination: $c_1v_1 + c_2v_2 + c_3v_3 + c_4v_4 = 0 $"
   ]
  },
  {
   "cell_type": "markdown",
   "metadata": {},
   "source": [
    "$\n",
    "\\begin{equation}\n",
    "c_1\n",
    "\\begin{bmatrix}\n",
    "1\\\\\n",
    "-2\\\\\n",
    "3\\\\\n",
    "\\end{bmatrix} , \n",
    "c_2\n",
    "\\begin{bmatrix}\n",
    "0\\\\\n",
    "3\\\\\n",
    "-1\\\\\n",
    "\\end{bmatrix},  \n",
    "c_3\n",
    "\\begin{bmatrix}\n",
    "2\\\\\n",
    "-1\\\\\n",
    "5\\\\\n",
    "\\end{bmatrix},  c_4 \n",
    "\\begin{bmatrix}\n",
    "0\\\\\n",
    "0\\\\\n",
    "-1\\\\\n",
    "\\end{bmatrix} =\n",
    "\\begin{bmatrix}\n",
    "0\\\\\n",
    "0\\\\\n",
    "0\\\\\n",
    "\\end{bmatrix} \n",
    "\\end{equation}\n",
    "$\n"
   ]
  },
  {
   "cell_type": "markdown",
   "metadata": {},
   "source": [
    "\n",
    "#### System of Equations:\n",
    "$c_1+2c_3 = 0 \\\\ -2c_1 + 3c_2-c_3 = 0 \\\\ 3c_1 -c_2 + 5c_3 -c_4 = 0\\\\ 0 = 0$\n",
    "#### Solving the system, we get:\n",
    "$c_1 =-2$, $c_2=-1$, $c_3=1$, $c_4=0$\n",
    "\n"
   ]
  },
  {
   "cell_type": "markdown",
   "metadata": {},
   "source": [
    "#### Hence, the given set is NOT linearly Independent. "
   ]
  },
  {
   "cell_type": "markdown",
   "metadata": {},
   "source": [
    "#### Now to check that the given set of vectors Spans $\\mathbb{R}^3$."
   ]
  },
  {
   "cell_type": "code",
   "execution_count": 8,
   "metadata": {},
   "outputs": [],
   "source": [
    "M = Matrix([[1, 0, 2, 0], [-2, 3, -1, 0], [3, -1, 5, -1]])"
   ]
  },
  {
   "cell_type": "code",
   "execution_count": 9,
   "metadata": {},
   "outputs": [
    {
     "data": {
      "text/latex": [
       "$\\displaystyle \\left[\\begin{matrix}1 & 0 & 2 & 0\\\\-2 & 3 & -1 & 0\\\\3 & -1 & 5 & -1\\end{matrix}\\right]$"
      ],
      "text/plain": [
       "Matrix([\n",
       "[ 1,  0,  2,  0],\n",
       "[-2,  3, -1,  0],\n",
       "[ 3, -1,  5, -1]])"
      ]
     },
     "execution_count": 9,
     "metadata": {},
     "output_type": "execute_result"
    }
   ],
   "source": [
    "M"
   ]
  },
  {
   "cell_type": "code",
   "execution_count": 10,
   "metadata": {},
   "outputs": [
    {
     "data": {
      "text/plain": [
       "(Matrix([\n",
       " [1, 0, 2, 0],\n",
       " [0, 1, 1, 0],\n",
       " [0, 0, 0, 1]]), (0, 1, 3))"
      ]
     },
     "execution_count": 10,
     "metadata": {},
     "output_type": "execute_result"
    }
   ],
   "source": [
    "M.rref()"
   ]
  },
  {
   "cell_type": "markdown",
   "metadata": {},
   "source": [
    "##### "
   ]
  },
  {
   "cell_type": "markdown",
   "metadata": {},
   "source": [
    "#### The matrix has 3 pivot positions. Thus the set of vectors spans $\\mathbb{R}^3$. "
   ]
  },
  {
   "cell_type": "markdown",
   "metadata": {},
   "source": [
    "#### Therefore, since the set of vectors spans $\\mathbb{R}^3$ and the set is not linearly independent, the set DOES NOT for a basis for $\\mathbb{R}^3$."
   ]
  },
  {
   "cell_type": "code",
   "execution_count": null,
   "metadata": {},
   "outputs": [],
   "source": []
  }
 ],
 "metadata": {
  "kernelspec": {
   "display_name": "Python 3",
   "language": "python",
   "name": "python3"
  },
  "language_info": {
   "codemirror_mode": {
    "name": "ipython",
    "version": 3
   },
   "file_extension": ".py",
   "mimetype": "text/x-python",
   "name": "python",
   "nbconvert_exporter": "python",
   "pygments_lexer": "ipython3",
   "version": "3.6.8"
  }
 },
 "nbformat": 4,
 "nbformat_minor": 2
}
