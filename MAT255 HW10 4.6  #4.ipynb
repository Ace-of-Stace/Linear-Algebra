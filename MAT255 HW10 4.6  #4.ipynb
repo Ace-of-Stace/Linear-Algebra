{
 "cells": [
  {
   "cell_type": "code",
   "execution_count": 1,
   "metadata": {},
   "outputs": [
    {
     "name": "stdout",
     "output_type": "stream",
     "text": [
      "Stacie Barbarick\n",
      "Linear Algebra\n",
      "Chapter 4.6 Problem 4\n"
     ]
    }
   ],
   "source": [
    "print(\"Stacie Barbarick\\nLinear Algebra\\nChapter 4.6 Problem 4\")"
   ]
  },
  {
   "cell_type": "code",
   "execution_count": 3,
   "metadata": {},
   "outputs": [],
   "source": [
    "from sympy import *\n",
    "from numpy import *"
   ]
  },
  {
   "cell_type": "markdown",
   "metadata": {},
   "source": [
    "#### Find the dimension of $NulA$ and $ColA$. \n"
   ]
  },
  {
   "cell_type": "markdown",
   "metadata": {},
   "source": [
    "$\n",
    "\\begin{equation} A =\n",
    "\\begin{bmatrix}\n",
    "1 & 1 & -2 & 0 & 1 & -2\\\\\n",
    "1 & 2 & -3 & 0 & -2 & -3\\\\\n",
    "1 & -1 & 0 & 0 & 1 & 6\\\\\n",
    "1 & -2 & 2 & 1 & -3 & 0\\\\\n",
    "1 & -2 & 1 & 0 & 2 & -1\\\\\n",
    "\\end{bmatrix} B =\n",
    "\\begin{bmatrix}\n",
    "1 & 1 & -2 & 0 & 1 & -2\\\\\n",
    "0 & 1 & -1 & 0 & -3 & -1\\\\\n",
    "0 & 0 & 1 & 1 & -13 & -1\\\\\n",
    "0 & 0 & 0 & 0 & 1 & -1\\\\\n",
    "0 & 0 & 0 & 0 & 0 & 1\\\\\n",
    "\\end{bmatrix}\n",
    "\\end{equation}\n",
    "$\n"
   ]
  },
  {
   "cell_type": "markdown",
   "metadata": {},
   "source": [
    "##### #### Matrix A is row equivalent to Matrix B.\n",
    "#### There are 5 pivot columns in Matrix A, therefore the $RankA$=5. \n",
    "\n"
   ]
  },
  {
   "cell_type": "markdown",
   "metadata": {},
   "source": [
    "#### Matrix A is a $5 x 6$ Matrix and by Rank Theorem, \n",
    "#### $RankA$ + $dimNulA$ = 6\n",
    "#### $dimNulA$ = 6-5\n",
    "#### $dimNulA$ = 1\n"
   ]
  },
  {
   "cell_type": "code",
   "execution_count": 11,
   "metadata": {},
   "outputs": [],
   "source": [
    "M = Matrix([[1, -6, 9,0,-2], [0, 1, 2, -4,5], [0,0,0, 5,1],[0,0,0,0,0]])"
   ]
  },
  {
   "cell_type": "code",
   "execution_count": 12,
   "metadata": {},
   "outputs": [
    {
     "data": {
      "text/latex": [
       "$\\displaystyle \\left[\\begin{matrix}1 & -6 & 9 & 0 & -2\\\\0 & 1 & 2 & -4 & 5\\\\0 & 0 & 0 & 5 & 1\\\\0 & 0 & 0 & 0 & 0\\end{matrix}\\right]$"
      ],
      "text/plain": [
       "Matrix([\n",
       "[1, -6, 9,  0, -2],\n",
       "[0,  1, 2, -4,  5],\n",
       "[0,  0, 0,  5,  1],\n",
       "[0,  0, 0,  0,  0]])"
      ]
     },
     "execution_count": 12,
     "metadata": {},
     "output_type": "execute_result"
    }
   ],
   "source": [
    "M"
   ]
  },
  {
   "cell_type": "code",
   "execution_count": 13,
   "metadata": {},
   "outputs": [
    {
     "data": {
      "text/plain": [
       "(Matrix([\n",
       " [1, 0, 21, 0, 164/5],\n",
       " [0, 1,  2, 0,  29/5],\n",
       " [0, 0,  0, 1,   1/5],\n",
       " [0, 0,  0, 0,     0]]), (0, 1, 3))"
      ]
     },
     "execution_count": 13,
     "metadata": {},
     "output_type": "execute_result"
    }
   ],
   "source": [
    "M.rref()"
   ]
  },
  {
   "cell_type": "markdown",
   "metadata": {},
   "source": [
    "#### The columns of matrix A are: {$a_1,a_2,a_3,a_4,a_5$} and the pivot columns are: {$a_1, a_2, a_4$}.\n",
    "#### Since the pivot columns of A form the basis for $ColA$, the basis of $ColA$ is 3. \n",
    "#### Therefore the dimension of the column space is 3."
   ]
  },
  {
   "cell_type": "markdown",
   "metadata": {},
   "source": [
    "#### The Null set for the matrix is found by solving the homogeneous equation $Ax=0$:\n"
   ]
  },
  {
   "cell_type": "markdown",
   "metadata": {},
   "source": [
    "$\n",
    "\\begin{equation} \n",
    "\\begin{bmatrix}\n",
    "1 & 1 & -2 & 0 & 1 & -2\\\\\n",
    "0 & 1 & -1 & 0 & -3 & -1\\\\\n",
    "0 & 0 & 1 & 1 & -13 & -1\\\\\n",
    "0 & 0 & 0 & 0 & 1 & -1\\\\\n",
    "0 & 0 & 0 & 0 & 0 & 1\\\\\n",
    "\\end{bmatrix}\n",
    "\\begin{bmatrix}\n",
    "x_1\\\\\n",
    "x_2\\\\\n",
    "x_3\\\\\n",
    "x_4\\\\\n",
    "x_5\\\\\n",
    "x_6\\\\\n",
    "\\end{bmatrix}   = 0\n",
    "\\end{equation}\n",
    "$\n"
   ]
  },
  {
   "cell_type": "markdown",
   "metadata": {},
   "source": [
    "### If we solve the equations and put each in terms of $X_3$, we get:\n",
    "$\n",
    "\\begin{equation} \n",
    "\\begin{bmatrix}\n",
    "x_1\\\\\n",
    "x_2\\\\\n",
    "x_3\\\\\n",
    "x_4\\\\\n",
    "x_5\\\\\n",
    "x_6\\\\\n",
    "\\end{bmatrix}   =\n",
    "\\begin{bmatrix}\n",
    "x_3\\\\\n",
    "x_3\\\\\n",
    "x_3\\\\\n",
    "-x_3\\\\\n",
    "0\\\\\n",
    "0\\\\\n",
    "\\end{bmatrix} =\n",
    "\\begin{bmatrix}\n",
    "1\\\\\n",
    "1\\\\\n",
    "1\\\\\n",
    "-1\\\\\n",
    "0\\\\\n",
    "0\\\\\n",
    "\\end{bmatrix}x_3\n",
    "\\end{equation}\n",
    "$"
   ]
  },
  {
   "cell_type": "markdown",
   "metadata": {},
   "source": [
    "#### Therefore the basis for $NulA$ = {(1,1,1,-1,0,0)}"
   ]
  },
  {
   "cell_type": "code",
   "execution_count": null,
   "metadata": {},
   "outputs": [],
   "source": []
  },
  {
   "cell_type": "code",
   "execution_count": null,
   "metadata": {},
   "outputs": [],
   "source": []
  }
 ],
 "metadata": {
  "kernelspec": {
   "display_name": "Python 3",
   "language": "python",
   "name": "python3"
  },
  "language_info": {
   "codemirror_mode": {
    "name": "ipython",
    "version": 3
   },
   "file_extension": ".py",
   "mimetype": "text/x-python",
   "name": "python",
   "nbconvert_exporter": "python",
   "pygments_lexer": "ipython3",
   "version": "3.6.8"
  }
 },
 "nbformat": 4,
 "nbformat_minor": 2
}
